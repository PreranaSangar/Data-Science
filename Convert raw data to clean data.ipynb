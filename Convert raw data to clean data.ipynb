{
 "cells": [
  {
   "cell_type": "code",
   "execution_count": 1,
   "id": "34c285c5-26e4-49cd-94c5-6e9ec099dfc0",
   "metadata": {},
   "outputs": [],
   "source": [
    "import pandas as pd"
   ]
  },
  {
   "cell_type": "code",
   "execution_count": 3,
   "id": "7e5c4453-7188-4fdd-8dde-6040efd007a0",
   "metadata": {},
   "outputs": [],
   "source": [
    "Data = pd.read_excel(r'D:\\Full Stack Data Science & AI\\Notes\\August\\8 August\\Convert row data to clean data.xlsx')"
   ]
  },
  {
   "cell_type": "code",
   "execution_count": 5,
   "id": "2df68bce-b57c-4e9d-9809-f133f681c7dd",
   "metadata": {},
   "outputs": [
    {
     "data": {
      "text/html": [
       "<div>\n",
       "<style scoped>\n",
       "    .dataframe tbody tr th:only-of-type {\n",
       "        vertical-align: middle;\n",
       "    }\n",
       "\n",
       "    .dataframe tbody tr th {\n",
       "        vertical-align: top;\n",
       "    }\n",
       "\n",
       "    .dataframe thead th {\n",
       "        text-align: right;\n",
       "    }\n",
       "</style>\n",
       "<table border=\"1\" class=\"dataframe\">\n",
       "  <thead>\n",
       "    <tr style=\"text-align: right;\">\n",
       "      <th></th>\n",
       "      <th>Address</th>\n",
       "      <th>Date</th>\n",
       "      <th>Name</th>\n",
       "      <th>Time</th>\n",
       "    </tr>\n",
       "  </thead>\n",
       "  <tbody>\n",
       "    <tr>\n",
       "      <th>0</th>\n",
       "      <td>45 rd, kenith street, btm, bangalore, 500038</td>\n",
       "      <td>14/2/2022</td>\n",
       "      <td>ABC</td>\n",
       "      <td>8:30:21</td>\n",
       "    </tr>\n",
       "    <tr>\n",
       "      <th>1</th>\n",
       "      <td>47 rd, texas street, adc, Kolhapur, 569824</td>\n",
       "      <td>13/8/2024</td>\n",
       "      <td>DEF</td>\n",
       "      <td>5:12:38</td>\n",
       "    </tr>\n",
       "  </tbody>\n",
       "</table>\n",
       "</div>"
      ],
      "text/plain": [
       "                                        Address       Date Name     Time\n",
       "0  45 rd, kenith street, btm, bangalore, 500038  14/2/2022  ABC  8:30:21\n",
       "1    47 rd, texas street, adc, Kolhapur, 569824  13/8/2024  DEF  5:12:38"
      ]
     },
     "execution_count": 5,
     "metadata": {},
     "output_type": "execute_result"
    }
   ],
   "source": [
    "Data"
   ]
  },
  {
   "cell_type": "code",
   "execution_count": 7,
   "id": "9224892b-7548-4833-96d5-96a244654795",
   "metadata": {},
   "outputs": [],
   "source": [
    "Data1 = Data['Address']"
   ]
  },
  {
   "cell_type": "code",
   "execution_count": 9,
   "id": "84b53590-55e9-4d09-8dbd-3f7679e1902a",
   "metadata": {},
   "outputs": [
    {
     "data": {
      "text/plain": [
       "0    45 rd, kenith street, btm, bangalore, 500038\n",
       "1      47 rd, texas street, adc, Kolhapur, 569824\n",
       "Name: Address, dtype: object"
      ]
     },
     "execution_count": 9,
     "metadata": {},
     "output_type": "execute_result"
    }
   ],
   "source": [
    "Data1"
   ]
  },
  {
   "cell_type": "code",
   "execution_count": 11,
   "id": "3465b3ce-f156-4329-b95e-d3543e28f43d",
   "metadata": {},
   "outputs": [],
   "source": [
    "Data2 = Data['Date']"
   ]
  },
  {
   "cell_type": "code",
   "execution_count": 13,
   "id": "e032cef4-d1e0-4d50-8185-785f96f898d7",
   "metadata": {},
   "outputs": [
    {
     "data": {
      "text/plain": [
       "0    14/2/2022\n",
       "1    13/8/2024\n",
       "Name: Date, dtype: object"
      ]
     },
     "execution_count": 13,
     "metadata": {},
     "output_type": "execute_result"
    }
   ],
   "source": [
    "Data2"
   ]
  },
  {
   "cell_type": "code",
   "execution_count": 15,
   "id": "443b6fa4-a229-4911-90fa-4d02b6809c5b",
   "metadata": {},
   "outputs": [],
   "source": [
    "Data3 = Data['Name']"
   ]
  },
  {
   "cell_type": "code",
   "execution_count": 17,
   "id": "fc406e89-f8d2-42d0-a614-6bd0050d2d03",
   "metadata": {},
   "outputs": [
    {
     "data": {
      "text/plain": [
       "0    ABC\n",
       "1    DEF\n",
       "Name: Name, dtype: object"
      ]
     },
     "execution_count": 17,
     "metadata": {},
     "output_type": "execute_result"
    }
   ],
   "source": [
    "Data3"
   ]
  },
  {
   "cell_type": "code",
   "execution_count": 19,
   "id": "1cc3cc6b-e827-461e-a621-a130d3b87391",
   "metadata": {},
   "outputs": [],
   "source": [
    "Data4 = Data['Time']"
   ]
  },
  {
   "cell_type": "code",
   "execution_count": 21,
   "id": "7fd01d86-b3e2-4512-8f54-1e02e28bd90d",
   "metadata": {},
   "outputs": [
    {
     "data": {
      "text/plain": [
       "0    8:30:21\n",
       "1    5:12:38\n",
       "Name: Time, dtype: object"
      ]
     },
     "execution_count": 21,
     "metadata": {},
     "output_type": "execute_result"
    }
   ],
   "source": [
    "Data4"
   ]
  },
  {
   "cell_type": "code",
   "execution_count": 23,
   "id": "71f3e1c2-52eb-42e0-802d-feed879f9777",
   "metadata": {},
   "outputs": [],
   "source": [
    "C_data = Data.copy()"
   ]
  },
  {
   "cell_type": "code",
   "execution_count": 25,
   "id": "7c72eec5-9f45-4e28-a8fc-67c30fa52b96",
   "metadata": {},
   "outputs": [],
   "source": [
    "C_data[['Road no', 'Road name', 'City', 'State', 'Zip code']] = Data1.str.split(',', expand=True)"
   ]
  },
  {
   "cell_type": "code",
   "execution_count": 27,
   "id": "c65bb2f8-8ea7-4754-b43c-cb7acc13de74",
   "metadata": {},
   "outputs": [
    {
     "data": {
      "text/html": [
       "<div>\n",
       "<style scoped>\n",
       "    .dataframe tbody tr th:only-of-type {\n",
       "        vertical-align: middle;\n",
       "    }\n",
       "\n",
       "    .dataframe tbody tr th {\n",
       "        vertical-align: top;\n",
       "    }\n",
       "\n",
       "    .dataframe thead th {\n",
       "        text-align: right;\n",
       "    }\n",
       "</style>\n",
       "<table border=\"1\" class=\"dataframe\">\n",
       "  <thead>\n",
       "    <tr style=\"text-align: right;\">\n",
       "      <th></th>\n",
       "      <th>Address</th>\n",
       "      <th>Date</th>\n",
       "      <th>Name</th>\n",
       "      <th>Time</th>\n",
       "      <th>Road no</th>\n",
       "      <th>Road name</th>\n",
       "      <th>City</th>\n",
       "      <th>State</th>\n",
       "      <th>Zip code</th>\n",
       "    </tr>\n",
       "  </thead>\n",
       "  <tbody>\n",
       "    <tr>\n",
       "      <th>0</th>\n",
       "      <td>45 rd, kenith street, btm, bangalore, 500038</td>\n",
       "      <td>14/2/2022</td>\n",
       "      <td>ABC</td>\n",
       "      <td>8:30:21</td>\n",
       "      <td>45 rd</td>\n",
       "      <td>kenith street</td>\n",
       "      <td>btm</td>\n",
       "      <td>bangalore</td>\n",
       "      <td>500038</td>\n",
       "    </tr>\n",
       "    <tr>\n",
       "      <th>1</th>\n",
       "      <td>47 rd, texas street, adc, Kolhapur, 569824</td>\n",
       "      <td>13/8/2024</td>\n",
       "      <td>DEF</td>\n",
       "      <td>5:12:38</td>\n",
       "      <td>47 rd</td>\n",
       "      <td>texas street</td>\n",
       "      <td>adc</td>\n",
       "      <td>Kolhapur</td>\n",
       "      <td>569824</td>\n",
       "    </tr>\n",
       "  </tbody>\n",
       "</table>\n",
       "</div>"
      ],
      "text/plain": [
       "                                        Address       Date Name     Time  \\\n",
       "0  45 rd, kenith street, btm, bangalore, 500038  14/2/2022  ABC  8:30:21   \n",
       "1    47 rd, texas street, adc, Kolhapur, 569824  13/8/2024  DEF  5:12:38   \n",
       "\n",
       "  Road no       Road name  City       State Zip code  \n",
       "0   45 rd   kenith street   btm   bangalore   500038  \n",
       "1   47 rd    texas street   adc    Kolhapur   569824  "
      ]
     },
     "execution_count": 27,
     "metadata": {},
     "output_type": "execute_result"
    }
   ],
   "source": [
    "C_data"
   ]
  },
  {
   "cell_type": "code",
   "execution_count": 29,
   "id": "93a8f067-942c-47c5-b9d3-9fe757611d9b",
   "metadata": {},
   "outputs": [
    {
     "data": {
      "text/html": [
       "<div>\n",
       "<style scoped>\n",
       "    .dataframe tbody tr th:only-of-type {\n",
       "        vertical-align: middle;\n",
       "    }\n",
       "\n",
       "    .dataframe tbody tr th {\n",
       "        vertical-align: top;\n",
       "    }\n",
       "\n",
       "    .dataframe thead th {\n",
       "        text-align: right;\n",
       "    }\n",
       "</style>\n",
       "<table border=\"1\" class=\"dataframe\">\n",
       "  <thead>\n",
       "    <tr style=\"text-align: right;\">\n",
       "      <th></th>\n",
       "      <th>Date</th>\n",
       "      <th>Name</th>\n",
       "      <th>Time</th>\n",
       "      <th>Road no</th>\n",
       "      <th>Road name</th>\n",
       "      <th>City</th>\n",
       "      <th>State</th>\n",
       "      <th>Zip code</th>\n",
       "    </tr>\n",
       "  </thead>\n",
       "  <tbody>\n",
       "    <tr>\n",
       "      <th>0</th>\n",
       "      <td>14/2/2022</td>\n",
       "      <td>ABC</td>\n",
       "      <td>8:30:21</td>\n",
       "      <td>45 rd</td>\n",
       "      <td>kenith street</td>\n",
       "      <td>btm</td>\n",
       "      <td>bangalore</td>\n",
       "      <td>500038</td>\n",
       "    </tr>\n",
       "    <tr>\n",
       "      <th>1</th>\n",
       "      <td>13/8/2024</td>\n",
       "      <td>DEF</td>\n",
       "      <td>5:12:38</td>\n",
       "      <td>47 rd</td>\n",
       "      <td>texas street</td>\n",
       "      <td>adc</td>\n",
       "      <td>Kolhapur</td>\n",
       "      <td>569824</td>\n",
       "    </tr>\n",
       "  </tbody>\n",
       "</table>\n",
       "</div>"
      ],
      "text/plain": [
       "        Date Name     Time Road no       Road name  City       State Zip code\n",
       "0  14/2/2022  ABC  8:30:21   45 rd   kenith street   btm   bangalore   500038\n",
       "1  13/8/2024  DEF  5:12:38   47 rd    texas street   adc    Kolhapur   569824"
      ]
     },
     "execution_count": 29,
     "metadata": {},
     "output_type": "execute_result"
    }
   ],
   "source": [
    "C1 = C_data.drop('Address', axis=1)\n",
    "C1"
   ]
  },
  {
   "cell_type": "code",
   "execution_count": 31,
   "id": "07f68e3a-178e-4c1a-86b9-674e187352bc",
   "metadata": {},
   "outputs": [
    {
     "data": {
      "text/html": [
       "<div>\n",
       "<style scoped>\n",
       "    .dataframe tbody tr th:only-of-type {\n",
       "        vertical-align: middle;\n",
       "    }\n",
       "\n",
       "    .dataframe tbody tr th {\n",
       "        vertical-align: top;\n",
       "    }\n",
       "\n",
       "    .dataframe thead th {\n",
       "        text-align: right;\n",
       "    }\n",
       "</style>\n",
       "<table border=\"1\" class=\"dataframe\">\n",
       "  <thead>\n",
       "    <tr style=\"text-align: right;\">\n",
       "      <th></th>\n",
       "      <th>Name</th>\n",
       "      <th>Time</th>\n",
       "      <th>Road no</th>\n",
       "      <th>Road name</th>\n",
       "      <th>City</th>\n",
       "      <th>State</th>\n",
       "      <th>Zip code</th>\n",
       "    </tr>\n",
       "  </thead>\n",
       "  <tbody>\n",
       "    <tr>\n",
       "      <th>0</th>\n",
       "      <td>ABC</td>\n",
       "      <td>8:30:21</td>\n",
       "      <td>45 rd</td>\n",
       "      <td>kenith street</td>\n",
       "      <td>btm</td>\n",
       "      <td>bangalore</td>\n",
       "      <td>500038</td>\n",
       "    </tr>\n",
       "    <tr>\n",
       "      <th>1</th>\n",
       "      <td>DEF</td>\n",
       "      <td>5:12:38</td>\n",
       "      <td>47 rd</td>\n",
       "      <td>texas street</td>\n",
       "      <td>adc</td>\n",
       "      <td>Kolhapur</td>\n",
       "      <td>569824</td>\n",
       "    </tr>\n",
       "  </tbody>\n",
       "</table>\n",
       "</div>"
      ],
      "text/plain": [
       "  Name     Time Road no       Road name  City       State Zip code\n",
       "0  ABC  8:30:21   45 rd   kenith street   btm   bangalore   500038\n",
       "1  DEF  5:12:38   47 rd    texas street   adc    Kolhapur   569824"
      ]
     },
     "execution_count": 31,
     "metadata": {},
     "output_type": "execute_result"
    }
   ],
   "source": [
    "C2 = C1.drop('Date', axis=1)\n",
    "C2"
   ]
  },
  {
   "cell_type": "code",
   "execution_count": 33,
   "id": "f198cc9f-6d68-4cd8-9ca1-9fc10c1ce365",
   "metadata": {},
   "outputs": [
    {
     "data": {
      "text/html": [
       "<div>\n",
       "<style scoped>\n",
       "    .dataframe tbody tr th:only-of-type {\n",
       "        vertical-align: middle;\n",
       "    }\n",
       "\n",
       "    .dataframe tbody tr th {\n",
       "        vertical-align: top;\n",
       "    }\n",
       "\n",
       "    .dataframe thead th {\n",
       "        text-align: right;\n",
       "    }\n",
       "</style>\n",
       "<table border=\"1\" class=\"dataframe\">\n",
       "  <thead>\n",
       "    <tr style=\"text-align: right;\">\n",
       "      <th></th>\n",
       "      <th>Time</th>\n",
       "      <th>Road no</th>\n",
       "      <th>Road name</th>\n",
       "      <th>City</th>\n",
       "      <th>State</th>\n",
       "      <th>Zip code</th>\n",
       "    </tr>\n",
       "  </thead>\n",
       "  <tbody>\n",
       "    <tr>\n",
       "      <th>0</th>\n",
       "      <td>8:30:21</td>\n",
       "      <td>45 rd</td>\n",
       "      <td>kenith street</td>\n",
       "      <td>btm</td>\n",
       "      <td>bangalore</td>\n",
       "      <td>500038</td>\n",
       "    </tr>\n",
       "    <tr>\n",
       "      <th>1</th>\n",
       "      <td>5:12:38</td>\n",
       "      <td>47 rd</td>\n",
       "      <td>texas street</td>\n",
       "      <td>adc</td>\n",
       "      <td>Kolhapur</td>\n",
       "      <td>569824</td>\n",
       "    </tr>\n",
       "  </tbody>\n",
       "</table>\n",
       "</div>"
      ],
      "text/plain": [
       "      Time Road no       Road name  City       State Zip code\n",
       "0  8:30:21   45 rd   kenith street   btm   bangalore   500038\n",
       "1  5:12:38   47 rd    texas street   adc    Kolhapur   569824"
      ]
     },
     "execution_count": 33,
     "metadata": {},
     "output_type": "execute_result"
    }
   ],
   "source": [
    "C3 = C2.drop('Name', axis=1)\n",
    "C3"
   ]
  },
  {
   "cell_type": "code",
   "execution_count": 35,
   "id": "e9dfd47b-f75b-4cf3-bc40-29cd7248cbd6",
   "metadata": {},
   "outputs": [
    {
     "data": {
      "text/html": [
       "<div>\n",
       "<style scoped>\n",
       "    .dataframe tbody tr th:only-of-type {\n",
       "        vertical-align: middle;\n",
       "    }\n",
       "\n",
       "    .dataframe tbody tr th {\n",
       "        vertical-align: top;\n",
       "    }\n",
       "\n",
       "    .dataframe thead th {\n",
       "        text-align: right;\n",
       "    }\n",
       "</style>\n",
       "<table border=\"1\" class=\"dataframe\">\n",
       "  <thead>\n",
       "    <tr style=\"text-align: right;\">\n",
       "      <th></th>\n",
       "      <th>Road no</th>\n",
       "      <th>Road name</th>\n",
       "      <th>City</th>\n",
       "      <th>State</th>\n",
       "      <th>Zip code</th>\n",
       "    </tr>\n",
       "  </thead>\n",
       "  <tbody>\n",
       "    <tr>\n",
       "      <th>0</th>\n",
       "      <td>45 rd</td>\n",
       "      <td>kenith street</td>\n",
       "      <td>btm</td>\n",
       "      <td>bangalore</td>\n",
       "      <td>500038</td>\n",
       "    </tr>\n",
       "    <tr>\n",
       "      <th>1</th>\n",
       "      <td>47 rd</td>\n",
       "      <td>texas street</td>\n",
       "      <td>adc</td>\n",
       "      <td>Kolhapur</td>\n",
       "      <td>569824</td>\n",
       "    </tr>\n",
       "  </tbody>\n",
       "</table>\n",
       "</div>"
      ],
      "text/plain": [
       "  Road no       Road name  City       State Zip code\n",
       "0   45 rd   kenith street   btm   bangalore   500038\n",
       "1   47 rd    texas street   adc    Kolhapur   569824"
      ]
     },
     "execution_count": 35,
     "metadata": {},
     "output_type": "execute_result"
    }
   ],
   "source": [
    "C4 = C3.drop('Time', axis=1)\n",
    "C4"
   ]
  },
  {
   "cell_type": "code",
   "execution_count": null,
   "id": "a0b14573-beed-4565-9ef9-ddfb821c37ec",
   "metadata": {},
   "outputs": [],
   "source": []
  },
  {
   "cell_type": "code",
   "execution_count": 38,
   "id": "ec64b157-6273-439c-843b-db802e362462",
   "metadata": {},
   "outputs": [],
   "source": [
    "C_data = C4.copy()"
   ]
  },
  {
   "cell_type": "code",
   "execution_count": 40,
   "id": "4adb23a7-7a3e-4d17-8f02-36718a9e6186",
   "metadata": {},
   "outputs": [
    {
     "data": {
      "text/html": [
       "<div>\n",
       "<style scoped>\n",
       "    .dataframe tbody tr th:only-of-type {\n",
       "        vertical-align: middle;\n",
       "    }\n",
       "\n",
       "    .dataframe tbody tr th {\n",
       "        vertical-align: top;\n",
       "    }\n",
       "\n",
       "    .dataframe thead th {\n",
       "        text-align: right;\n",
       "    }\n",
       "</style>\n",
       "<table border=\"1\" class=\"dataframe\">\n",
       "  <thead>\n",
       "    <tr style=\"text-align: right;\">\n",
       "      <th></th>\n",
       "      <th>Road no</th>\n",
       "      <th>Road name</th>\n",
       "      <th>City</th>\n",
       "      <th>State</th>\n",
       "      <th>Zip code</th>\n",
       "    </tr>\n",
       "  </thead>\n",
       "  <tbody>\n",
       "    <tr>\n",
       "      <th>0</th>\n",
       "      <td>45 rd</td>\n",
       "      <td>kenith street</td>\n",
       "      <td>btm</td>\n",
       "      <td>bangalore</td>\n",
       "      <td>500038</td>\n",
       "    </tr>\n",
       "    <tr>\n",
       "      <th>1</th>\n",
       "      <td>47 rd</td>\n",
       "      <td>texas street</td>\n",
       "      <td>adc</td>\n",
       "      <td>Kolhapur</td>\n",
       "      <td>569824</td>\n",
       "    </tr>\n",
       "  </tbody>\n",
       "</table>\n",
       "</div>"
      ],
      "text/plain": [
       "  Road no       Road name  City       State Zip code\n",
       "0   45 rd   kenith street   btm   bangalore   500038\n",
       "1   47 rd    texas street   adc    Kolhapur   569824"
      ]
     },
     "execution_count": 40,
     "metadata": {},
     "output_type": "execute_result"
    }
   ],
   "source": [
    "C_data"
   ]
  },
  {
   "cell_type": "code",
   "execution_count": 42,
   "id": "c7242041-fd9d-448a-b80a-c0023ab3ece9",
   "metadata": {},
   "outputs": [],
   "source": [
    "C_data[['Date', 'Month', 'Year']] = Data2.str.split('/', expand=True)"
   ]
  },
  {
   "cell_type": "code",
   "execution_count": 44,
   "id": "4c095354-fd53-4315-88bd-d9414b17dc30",
   "metadata": {},
   "outputs": [
    {
     "data": {
      "text/html": [
       "<div>\n",
       "<style scoped>\n",
       "    .dataframe tbody tr th:only-of-type {\n",
       "        vertical-align: middle;\n",
       "    }\n",
       "\n",
       "    .dataframe tbody tr th {\n",
       "        vertical-align: top;\n",
       "    }\n",
       "\n",
       "    .dataframe thead th {\n",
       "        text-align: right;\n",
       "    }\n",
       "</style>\n",
       "<table border=\"1\" class=\"dataframe\">\n",
       "  <thead>\n",
       "    <tr style=\"text-align: right;\">\n",
       "      <th></th>\n",
       "      <th>Road no</th>\n",
       "      <th>Road name</th>\n",
       "      <th>City</th>\n",
       "      <th>State</th>\n",
       "      <th>Zip code</th>\n",
       "      <th>Date</th>\n",
       "      <th>Month</th>\n",
       "      <th>Year</th>\n",
       "    </tr>\n",
       "  </thead>\n",
       "  <tbody>\n",
       "    <tr>\n",
       "      <th>0</th>\n",
       "      <td>45 rd</td>\n",
       "      <td>kenith street</td>\n",
       "      <td>btm</td>\n",
       "      <td>bangalore</td>\n",
       "      <td>500038</td>\n",
       "      <td>14</td>\n",
       "      <td>2</td>\n",
       "      <td>2022</td>\n",
       "    </tr>\n",
       "    <tr>\n",
       "      <th>1</th>\n",
       "      <td>47 rd</td>\n",
       "      <td>texas street</td>\n",
       "      <td>adc</td>\n",
       "      <td>Kolhapur</td>\n",
       "      <td>569824</td>\n",
       "      <td>13</td>\n",
       "      <td>8</td>\n",
       "      <td>2024</td>\n",
       "    </tr>\n",
       "  </tbody>\n",
       "</table>\n",
       "</div>"
      ],
      "text/plain": [
       "  Road no       Road name  City       State Zip code Date Month  Year\n",
       "0   45 rd   kenith street   btm   bangalore   500038   14     2  2022\n",
       "1   47 rd    texas street   adc    Kolhapur   569824   13     8  2024"
      ]
     },
     "execution_count": 44,
     "metadata": {},
     "output_type": "execute_result"
    }
   ],
   "source": [
    "C_data"
   ]
  },
  {
   "cell_type": "code",
   "execution_count": 46,
   "id": "510925fc-9b10-45ed-9cd3-b8d734210161",
   "metadata": {},
   "outputs": [],
   "source": [
    "C_data['Name'] = Data3"
   ]
  },
  {
   "cell_type": "code",
   "execution_count": 48,
   "id": "469bde48-2681-4950-bced-725035c49b9e",
   "metadata": {},
   "outputs": [
    {
     "data": {
      "text/html": [
       "<div>\n",
       "<style scoped>\n",
       "    .dataframe tbody tr th:only-of-type {\n",
       "        vertical-align: middle;\n",
       "    }\n",
       "\n",
       "    .dataframe tbody tr th {\n",
       "        vertical-align: top;\n",
       "    }\n",
       "\n",
       "    .dataframe thead th {\n",
       "        text-align: right;\n",
       "    }\n",
       "</style>\n",
       "<table border=\"1\" class=\"dataframe\">\n",
       "  <thead>\n",
       "    <tr style=\"text-align: right;\">\n",
       "      <th></th>\n",
       "      <th>Road no</th>\n",
       "      <th>Road name</th>\n",
       "      <th>City</th>\n",
       "      <th>State</th>\n",
       "      <th>Zip code</th>\n",
       "      <th>Date</th>\n",
       "      <th>Month</th>\n",
       "      <th>Year</th>\n",
       "      <th>Name</th>\n",
       "    </tr>\n",
       "  </thead>\n",
       "  <tbody>\n",
       "    <tr>\n",
       "      <th>0</th>\n",
       "      <td>45 rd</td>\n",
       "      <td>kenith street</td>\n",
       "      <td>btm</td>\n",
       "      <td>bangalore</td>\n",
       "      <td>500038</td>\n",
       "      <td>14</td>\n",
       "      <td>2</td>\n",
       "      <td>2022</td>\n",
       "      <td>ABC</td>\n",
       "    </tr>\n",
       "    <tr>\n",
       "      <th>1</th>\n",
       "      <td>47 rd</td>\n",
       "      <td>texas street</td>\n",
       "      <td>adc</td>\n",
       "      <td>Kolhapur</td>\n",
       "      <td>569824</td>\n",
       "      <td>13</td>\n",
       "      <td>8</td>\n",
       "      <td>2024</td>\n",
       "      <td>DEF</td>\n",
       "    </tr>\n",
       "  </tbody>\n",
       "</table>\n",
       "</div>"
      ],
      "text/plain": [
       "  Road no       Road name  City       State Zip code Date Month  Year Name\n",
       "0   45 rd   kenith street   btm   bangalore   500038   14     2  2022  ABC\n",
       "1   47 rd    texas street   adc    Kolhapur   569824   13     8  2024  DEF"
      ]
     },
     "execution_count": 48,
     "metadata": {},
     "output_type": "execute_result"
    }
   ],
   "source": [
    "C_data"
   ]
  },
  {
   "cell_type": "code",
   "execution_count": 50,
   "id": "7758e493-ad2d-4272-8f78-3b817afbd439",
   "metadata": {},
   "outputs": [],
   "source": [
    "C_data[['Hour', 'Minute', 'Second']] = Data4.str.split(':', expand=True)"
   ]
  },
  {
   "cell_type": "code",
   "execution_count": 52,
   "id": "7440027e-328f-4054-b809-af521c3d160e",
   "metadata": {},
   "outputs": [
    {
     "data": {
      "text/html": [
       "<div>\n",
       "<style scoped>\n",
       "    .dataframe tbody tr th:only-of-type {\n",
       "        vertical-align: middle;\n",
       "    }\n",
       "\n",
       "    .dataframe tbody tr th {\n",
       "        vertical-align: top;\n",
       "    }\n",
       "\n",
       "    .dataframe thead th {\n",
       "        text-align: right;\n",
       "    }\n",
       "</style>\n",
       "<table border=\"1\" class=\"dataframe\">\n",
       "  <thead>\n",
       "    <tr style=\"text-align: right;\">\n",
       "      <th></th>\n",
       "      <th>Road no</th>\n",
       "      <th>Road name</th>\n",
       "      <th>City</th>\n",
       "      <th>State</th>\n",
       "      <th>Zip code</th>\n",
       "      <th>Date</th>\n",
       "      <th>Month</th>\n",
       "      <th>Year</th>\n",
       "      <th>Name</th>\n",
       "      <th>Hour</th>\n",
       "      <th>Minute</th>\n",
       "      <th>Second</th>\n",
       "    </tr>\n",
       "  </thead>\n",
       "  <tbody>\n",
       "    <tr>\n",
       "      <th>0</th>\n",
       "      <td>45 rd</td>\n",
       "      <td>kenith street</td>\n",
       "      <td>btm</td>\n",
       "      <td>bangalore</td>\n",
       "      <td>500038</td>\n",
       "      <td>14</td>\n",
       "      <td>2</td>\n",
       "      <td>2022</td>\n",
       "      <td>ABC</td>\n",
       "      <td>8</td>\n",
       "      <td>30</td>\n",
       "      <td>21</td>\n",
       "    </tr>\n",
       "    <tr>\n",
       "      <th>1</th>\n",
       "      <td>47 rd</td>\n",
       "      <td>texas street</td>\n",
       "      <td>adc</td>\n",
       "      <td>Kolhapur</td>\n",
       "      <td>569824</td>\n",
       "      <td>13</td>\n",
       "      <td>8</td>\n",
       "      <td>2024</td>\n",
       "      <td>DEF</td>\n",
       "      <td>5</td>\n",
       "      <td>12</td>\n",
       "      <td>38</td>\n",
       "    </tr>\n",
       "  </tbody>\n",
       "</table>\n",
       "</div>"
      ],
      "text/plain": [
       "  Road no       Road name  City       State Zip code Date Month  Year Name  \\\n",
       "0   45 rd   kenith street   btm   bangalore   500038   14     2  2022  ABC   \n",
       "1   47 rd    texas street   adc    Kolhapur   569824   13     8  2024  DEF   \n",
       "\n",
       "  Hour Minute Second  \n",
       "0    8     30     21  \n",
       "1    5     12     38  "
      ]
     },
     "execution_count": 52,
     "metadata": {},
     "output_type": "execute_result"
    }
   ],
   "source": [
    "C_data"
   ]
  }
 ],
 "metadata": {
  "kernelspec": {
   "display_name": "Python 3 (ipykernel)",
   "language": "python",
   "name": "python3"
  },
  "language_info": {
   "codemirror_mode": {
    "name": "ipython",
    "version": 3
   },
   "file_extension": ".py",
   "mimetype": "text/x-python",
   "name": "python",
   "nbconvert_exporter": "python",
   "pygments_lexer": "ipython3",
   "version": "3.12.7"
  }
 },
 "nbformat": 4,
 "nbformat_minor": 5
}
