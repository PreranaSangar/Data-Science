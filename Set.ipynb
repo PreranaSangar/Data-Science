{
 "cells": [
  {
   "cell_type": "code",
   "execution_count": 1,
   "id": "4fc0f646-3f63-49f8-a15d-fc9baaab9646",
   "metadata": {},
   "outputs": [
    {
     "data": {
      "text/plain": [
       "{}"
      ]
     },
     "execution_count": 1,
     "metadata": {},
     "output_type": "execute_result"
    }
   ],
   "source": [
    "s = {}\n",
    "s"
   ]
  },
  {
   "cell_type": "code",
   "execution_count": 3,
   "id": "a7095a64-9b10-43ed-8c3a-b657297a2b45",
   "metadata": {},
   "outputs": [
    {
     "data": {
      "text/plain": [
       "dict"
      ]
     },
     "execution_count": 3,
     "metadata": {},
     "output_type": "execute_result"
    }
   ],
   "source": [
    "type(s)"
   ]
  },
  {
   "cell_type": "code",
   "execution_count": 5,
   "id": "4422484f-3b3d-4c65-afb7-07f108841d31",
   "metadata": {},
   "outputs": [
    {
     "data": {
      "text/plain": [
       "set()"
      ]
     },
     "execution_count": 5,
     "metadata": {},
     "output_type": "execute_result"
    }
   ],
   "source": [
    "s = set()\n",
    "s"
   ]
  },
  {
   "cell_type": "code",
   "execution_count": 7,
   "id": "e905bef1-8e72-46bb-807b-ddcb16a00296",
   "metadata": {},
   "outputs": [
    {
     "data": {
      "text/plain": [
       "set"
      ]
     },
     "execution_count": 7,
     "metadata": {},
     "output_type": "execute_result"
    }
   ],
   "source": [
    "type(s)"
   ]
  },
  {
   "cell_type": "code",
   "execution_count": 9,
   "id": "a375c0cf-5dac-4cc0-bc77-27428fa905fe",
   "metadata": {},
   "outputs": [
    {
     "data": {
      "text/plain": [
       "{2, 3, 7, 50, 78, 100}"
      ]
     },
     "execution_count": 9,
     "metadata": {},
     "output_type": "execute_result"
    }
   ],
   "source": [
    "s = {3, 50, 7, 2, 78, 100}\n",
    "s"
   ]
  },
  {
   "cell_type": "code",
   "execution_count": 11,
   "id": "f124b5f3-859b-4674-a7f4-b096da8e2bef",
   "metadata": {},
   "outputs": [
    {
     "data": {
      "text/plain": [
       "{10, 3, 3.3, 5, 50, 'nit'}"
      ]
     },
     "execution_count": 11,
     "metadata": {},
     "output_type": "execute_result"
    }
   ],
   "source": [
    "s1 = {3, 5, 'nit', 10, 50, 3.3}\n",
    "s1"
   ]
  },
  {
   "cell_type": "code",
   "execution_count": 13,
   "id": "55208ba5-31cd-42d3-a5dc-5cbcc08025be",
   "metadata": {},
   "outputs": [],
   "source": [
    "s.add('hello')\n"
   ]
  },
  {
   "cell_type": "code",
   "execution_count": 15,
   "id": "107ea62c-5cc9-48d3-9e8c-f52d81215a43",
   "metadata": {},
   "outputs": [
    {
     "data": {
      "text/plain": [
       "{100, 2, 3, 50, 7, 78, 'hello'}"
      ]
     },
     "execution_count": 15,
     "metadata": {},
     "output_type": "execute_result"
    }
   ],
   "source": [
    "s"
   ]
  },
  {
   "cell_type": "code",
   "execution_count": 17,
   "id": "52e46631-4e99-4275-a4e7-b41543f6c776",
   "metadata": {},
   "outputs": [],
   "source": [
    "s.add(1+2j)"
   ]
  },
  {
   "cell_type": "code",
   "execution_count": 19,
   "id": "e0edc05d-04da-4677-b34c-93da3944d716",
   "metadata": {},
   "outputs": [
    {
     "data": {
      "text/plain": [
       "{(1+2j), 100, 2, 3, 50, 7, 78, 'hello'}"
      ]
     },
     "execution_count": 19,
     "metadata": {},
     "output_type": "execute_result"
    }
   ],
   "source": [
    "s"
   ]
  },
  {
   "cell_type": "code",
   "execution_count": 21,
   "id": "6ae484ec-7ee5-405b-b2bb-27ecf4b24047",
   "metadata": {},
   "outputs": [
    {
     "data": {
      "text/plain": [
       "{10, 3, 3.3, 5, 50, 'nit'}"
      ]
     },
     "execution_count": 21,
     "metadata": {},
     "output_type": "execute_result"
    }
   ],
   "source": [
    "s1"
   ]
  },
  {
   "cell_type": "code",
   "execution_count": 23,
   "id": "ffd591b1-cedd-4828-b58c-f5c5338a8dca",
   "metadata": {},
   "outputs": [],
   "source": [
    "s2 = s1.copy()"
   ]
  },
  {
   "cell_type": "code",
   "execution_count": 25,
   "id": "1abf75b0-fbb0-4e1d-a5d8-2f8e42fb98d2",
   "metadata": {},
   "outputs": [
    {
     "data": {
      "text/plain": [
       "{10, 3, 3.3, 5, 50, 'nit'}"
      ]
     },
     "execution_count": 25,
     "metadata": {},
     "output_type": "execute_result"
    }
   ],
   "source": [
    "s2"
   ]
  },
  {
   "cell_type": "code",
   "execution_count": 27,
   "id": "7ac56c14-c370-4952-bfe4-a6de074e5f57",
   "metadata": {},
   "outputs": [
    {
     "data": {
      "text/plain": [
       "{(1+2j), 100, 2, 3, 50, 7, 78, 'hello'}"
      ]
     },
     "execution_count": 27,
     "metadata": {},
     "output_type": "execute_result"
    }
   ],
   "source": [
    "s"
   ]
  },
  {
   "cell_type": "code",
   "execution_count": 29,
   "id": "8a04fc05-3272-44c9-8b0f-ac06c3a8bc0b",
   "metadata": {},
   "outputs": [
    {
     "data": {
      "text/plain": [
       "{10, 3, 3.3, 5, 50, 'nit'}"
      ]
     },
     "execution_count": 29,
     "metadata": {},
     "output_type": "execute_result"
    }
   ],
   "source": [
    "s1"
   ]
  },
  {
   "cell_type": "code",
   "execution_count": 31,
   "id": "c9d71ba2-f568-44c6-9352-929ca8d88f12",
   "metadata": {},
   "outputs": [
    {
     "data": {
      "text/plain": [
       "{10, 3, 3.3, 5, 50, 'nit'}"
      ]
     },
     "execution_count": 31,
     "metadata": {},
     "output_type": "execute_result"
    }
   ],
   "source": [
    "s2"
   ]
  },
  {
   "cell_type": "code",
   "execution_count": 33,
   "id": "26a6789f-44d6-44c1-ae9c-3158cc0f6166",
   "metadata": {},
   "outputs": [
    {
     "data": {
      "text/plain": [
       "6"
      ]
     },
     "execution_count": 33,
     "metadata": {},
     "output_type": "execute_result"
    }
   ],
   "source": [
    "len(s2)"
   ]
  },
  {
   "cell_type": "code",
   "execution_count": 35,
   "id": "b7e0e14a-56ae-40ce-9f9e-87088ba2423f",
   "metadata": {},
   "outputs": [],
   "source": [
    "s2.clear()"
   ]
  },
  {
   "cell_type": "code",
   "execution_count": 37,
   "id": "6135fd80-5b3c-4af1-a138-9a9645597c42",
   "metadata": {},
   "outputs": [
    {
     "data": {
      "text/plain": [
       "set()"
      ]
     },
     "execution_count": 37,
     "metadata": {},
     "output_type": "execute_result"
    }
   ],
   "source": [
    "s2"
   ]
  },
  {
   "cell_type": "code",
   "execution_count": 39,
   "id": "b193988c-b733-45a4-bab4-1727844f80b9",
   "metadata": {},
   "outputs": [
    {
     "data": {
      "text/plain": [
       "0"
      ]
     },
     "execution_count": 39,
     "metadata": {},
     "output_type": "execute_result"
    }
   ],
   "source": [
    "len(s2)"
   ]
  },
  {
   "cell_type": "code",
   "execution_count": 41,
   "id": "f9bd6c9b-097f-4253-862f-276b6f007b9c",
   "metadata": {},
   "outputs": [
    {
     "data": {
      "text/plain": [
       "{(1+2j), 100, 2, 3, 50, 7, 78, 'hello'}"
      ]
     },
     "execution_count": 41,
     "metadata": {},
     "output_type": "execute_result"
    }
   ],
   "source": [
    "s"
   ]
  },
  {
   "cell_type": "code",
   "execution_count": 43,
   "id": "8c7edf45-9441-4700-b10e-d3effcc8d8d0",
   "metadata": {},
   "outputs": [
    {
     "data": {
      "text/plain": [
       "2"
      ]
     },
     "execution_count": 43,
     "metadata": {},
     "output_type": "execute_result"
    }
   ],
   "source": [
    "s.pop() # Removes random element"
   ]
  },
  {
   "cell_type": "code",
   "execution_count": 45,
   "id": "e5f32142-e772-419b-b6af-bf2d3252d056",
   "metadata": {},
   "outputs": [
    {
     "data": {
      "text/plain": [
       "{(1+2j), 100, 3, 50, 7, 78, 'hello'}"
      ]
     },
     "execution_count": 45,
     "metadata": {},
     "output_type": "execute_result"
    }
   ],
   "source": [
    "s"
   ]
  },
  {
   "cell_type": "code",
   "execution_count": 47,
   "id": "1d3198f6-42ba-408c-9537-db320de609be",
   "metadata": {},
   "outputs": [
    {
     "data": {
      "text/plain": [
       "3"
      ]
     },
     "execution_count": 47,
     "metadata": {},
     "output_type": "execute_result"
    }
   ],
   "source": [
    "s.pop()"
   ]
  },
  {
   "cell_type": "code",
   "execution_count": 49,
   "id": "d9f54857-1d6d-4fb5-be3a-75abd9878e38",
   "metadata": {},
   "outputs": [
    {
     "data": {
      "text/plain": [
       "{(1+2j), 100, 50, 7, 78, 'hello'}"
      ]
     },
     "execution_count": 49,
     "metadata": {},
     "output_type": "execute_result"
    }
   ],
   "source": [
    "s"
   ]
  },
  {
   "cell_type": "code",
   "execution_count": 51,
   "id": "fbac513f-e129-4c34-89ef-4d7b1c6671b5",
   "metadata": {},
   "outputs": [],
   "source": [
    "s.remove((1+2j))"
   ]
  },
  {
   "cell_type": "code",
   "execution_count": 53,
   "id": "202f3ded-2644-46d1-b848-2a891cedc447",
   "metadata": {},
   "outputs": [
    {
     "data": {
      "text/plain": [
       "{100, 50, 7, 78, 'hello'}"
      ]
     },
     "execution_count": 53,
     "metadata": {},
     "output_type": "execute_result"
    }
   ],
   "source": [
    "s"
   ]
  },
  {
   "cell_type": "code",
   "execution_count": 55,
   "id": "2669bcd3-d203-4892-854c-2514dc2c0f98",
   "metadata": {},
   "outputs": [
    {
     "ename": "KeyError",
     "evalue": "700",
     "output_type": "error",
     "traceback": [
      "\u001b[1;31m---------------------------------------------------------------------------\u001b[0m",
      "\u001b[1;31mKeyError\u001b[0m                                  Traceback (most recent call last)",
      "Cell \u001b[1;32mIn[55], line 1\u001b[0m\n\u001b[1;32m----> 1\u001b[0m s\u001b[38;5;241m.\u001b[39mremove(\u001b[38;5;241m700\u001b[39m)\n",
      "\u001b[1;31mKeyError\u001b[0m: 700"
     ]
    }
   ],
   "source": [
    "s.remove(700)"
   ]
  },
  {
   "cell_type": "code",
   "execution_count": 57,
   "id": "c0cff583-b42d-44ba-a401-0cd5f7759ebc",
   "metadata": {},
   "outputs": [],
   "source": [
    "s.discard(700)"
   ]
  },
  {
   "cell_type": "code",
   "execution_count": 59,
   "id": "5f1f6890-e4d4-448a-8f21-272740e3e2a2",
   "metadata": {},
   "outputs": [
    {
     "data": {
      "text/plain": [
       "{100, 50, 7, 78, 'hello'}"
      ]
     },
     "execution_count": 59,
     "metadata": {},
     "output_type": "execute_result"
    }
   ],
   "source": [
    "s"
   ]
  },
  {
   "cell_type": "code",
   "execution_count": 63,
   "id": "bf1eda08-abb0-411e-a06b-b117acd102d8",
   "metadata": {},
   "outputs": [],
   "source": [
    "s.discard('hello')"
   ]
  },
  {
   "cell_type": "code",
   "execution_count": 65,
   "id": "420b4596-e0da-49f4-a6ff-a5a242b98854",
   "metadata": {},
   "outputs": [
    {
     "data": {
      "text/plain": [
       "{7, 50, 78, 100}"
      ]
     },
     "execution_count": 65,
     "metadata": {},
     "output_type": "execute_result"
    }
   ],
   "source": [
    "s"
   ]
  },
  {
   "cell_type": "code",
   "execution_count": 67,
   "id": "950fbc73-35d1-4f08-9ba0-ddc50ee40b59",
   "metadata": {},
   "outputs": [],
   "source": [
    "s.add(7)"
   ]
  },
  {
   "cell_type": "code",
   "execution_count": 69,
   "id": "babd7bb3-d73d-410f-9416-2279a21c79f3",
   "metadata": {},
   "outputs": [
    {
     "data": {
      "text/plain": [
       "{7, 50, 78, 100}"
      ]
     },
     "execution_count": 69,
     "metadata": {},
     "output_type": "execute_result"
    }
   ],
   "source": [
    "s"
   ]
  },
  {
   "cell_type": "code",
   "execution_count": 71,
   "id": "0a56fbd7-76ca-4867-86e6-a9d03daac07e",
   "metadata": {},
   "outputs": [
    {
     "name": "stdout",
     "output_type": "stream",
     "text": [
      "100\n",
      "50\n",
      "7\n",
      "78\n"
     ]
    }
   ],
   "source": [
    "for i in s:\n",
    "    print(i)"
   ]
  },
  {
   "cell_type": "code",
   "execution_count": 77,
   "id": "567e7fa7-7cf0-4bf1-8c35-8e90dc8ca0d3",
   "metadata": {},
   "outputs": [
    {
     "name": "stdout",
     "output_type": "stream",
     "text": [
      "(0, 100)\n",
      "(1, 50)\n",
      "(2, 7)\n",
      "(3, 78)\n"
     ]
    }
   ],
   "source": [
    "for i in enumerate(s):\n",
    "    print(i)"
   ]
  },
  {
   "cell_type": "code",
   "execution_count": 79,
   "id": "70ff4e6f-f744-46f0-b41e-712761b8051e",
   "metadata": {},
   "outputs": [
    {
     "data": {
      "text/plain": [
       "{7, 50, 78, 100}"
      ]
     },
     "execution_count": 79,
     "metadata": {},
     "output_type": "execute_result"
    }
   ],
   "source": [
    "s"
   ]
  },
  {
   "cell_type": "code",
   "execution_count": 81,
   "id": "77e8789c-4bad-4da8-963c-e32de6fb5be5",
   "metadata": {},
   "outputs": [
    {
     "ename": "TypeError",
     "evalue": "'set' object is not subscriptable",
     "output_type": "error",
     "traceback": [
      "\u001b[1;31m---------------------------------------------------------------------------\u001b[0m",
      "\u001b[1;31mTypeError\u001b[0m                                 Traceback (most recent call last)",
      "Cell \u001b[1;32mIn[81], line 1\u001b[0m\n\u001b[1;32m----> 1\u001b[0m s[\u001b[38;5;241m0\u001b[39m]\n",
      "\u001b[1;31mTypeError\u001b[0m: 'set' object is not subscriptable"
     ]
    }
   ],
   "source": [
    "s[0]"
   ]
  },
  {
   "cell_type": "code",
   "execution_count": 83,
   "id": "482c71f6-bf8c-4bca-89f3-e1b2fa2f3c57",
   "metadata": {},
   "outputs": [
    {
     "data": {
      "text/plain": [
       "{7, 50, 78, 100}"
      ]
     },
     "execution_count": 83,
     "metadata": {},
     "output_type": "execute_result"
    }
   ],
   "source": [
    "s"
   ]
  },
  {
   "cell_type": "code",
   "execution_count": 85,
   "id": "43a5ad46-5faf-4416-86df-c739ef8d3985",
   "metadata": {},
   "outputs": [
    {
     "ename": "TypeError",
     "evalue": "'set' object is not subscriptable",
     "output_type": "error",
     "traceback": [
      "\u001b[1;31m---------------------------------------------------------------------------\u001b[0m",
      "\u001b[1;31mTypeError\u001b[0m                                 Traceback (most recent call last)",
      "Cell \u001b[1;32mIn[85], line 1\u001b[0m\n\u001b[1;32m----> 1\u001b[0m s[\u001b[38;5;241m1\u001b[39m:\u001b[38;5;241m5\u001b[39m]\n",
      "\u001b[1;31mTypeError\u001b[0m: 'set' object is not subscriptable"
     ]
    }
   ],
   "source": [
    "s[1:5]"
   ]
  },
  {
   "cell_type": "code",
   "execution_count": 87,
   "id": "a6662b73-ae61-44db-ab21-df93f06c27a8",
   "metadata": {},
   "outputs": [
    {
     "data": {
      "text/plain": [
       "{7, 50, 78, 100}"
      ]
     },
     "execution_count": 87,
     "metadata": {},
     "output_type": "execute_result"
    }
   ],
   "source": [
    "s"
   ]
  },
  {
   "cell_type": "code",
   "execution_count": 89,
   "id": "9edd9b7a-7a8a-4053-b07c-e2d1c0ec0744",
   "metadata": {},
   "outputs": [],
   "source": [
    "s.update([1, 2, 3])"
   ]
  },
  {
   "cell_type": "code",
   "execution_count": 91,
   "id": "f11d470c-6d5a-4a03-86c7-531af62bfc8b",
   "metadata": {},
   "outputs": [
    {
     "data": {
      "text/plain": [
       "{1, 2, 3, 7, 50, 78, 100}"
      ]
     },
     "execution_count": 91,
     "metadata": {},
     "output_type": "execute_result"
    }
   ],
   "source": [
    "s"
   ]
  },
  {
   "cell_type": "code",
   "execution_count": 93,
   "id": "a837a960-b3ee-4fd0-a7cc-eacb4c8d5a6b",
   "metadata": {},
   "outputs": [
    {
     "data": {
      "text/plain": [
       "{10, 3, 3.3, 5, 50, 'nit'}"
      ]
     },
     "execution_count": 93,
     "metadata": {},
     "output_type": "execute_result"
    }
   ],
   "source": [
    "s1"
   ]
  },
  {
   "cell_type": "code",
   "execution_count": 95,
   "id": "ed29fafc-97b4-460d-a4a8-97a589183cfe",
   "metadata": {},
   "outputs": [],
   "source": [
    "s1.update('welcome')"
   ]
  },
  {
   "cell_type": "code",
   "execution_count": 97,
   "id": "f563a968-bd51-43c8-9a2d-72e8e568fb70",
   "metadata": {},
   "outputs": [
    {
     "data": {
      "text/plain": [
       "{10, 3, 3.3, 5, 50, 'c', 'e', 'l', 'm', 'nit', 'o', 'w'}"
      ]
     },
     "execution_count": 97,
     "metadata": {},
     "output_type": "execute_result"
    }
   ],
   "source": [
    "s1"
   ]
  },
  {
   "cell_type": "code",
   "execution_count": 99,
   "id": "2c774ef3-cb02-4ac3-a84b-396027a5f2bc",
   "metadata": {},
   "outputs": [],
   "source": [
    "s1.update(['good'])"
   ]
  },
  {
   "cell_type": "code",
   "execution_count": 101,
   "id": "59ec9473-51a7-458d-89b8-f406b6d4b646",
   "metadata": {},
   "outputs": [
    {
     "data": {
      "text/plain": [
       "{10, 3, 3.3, 5, 50, 'c', 'e', 'good', 'l', 'm', 'nit', 'o', 'w'}"
      ]
     },
     "execution_count": 101,
     "metadata": {},
     "output_type": "execute_result"
    }
   ],
   "source": [
    "s1"
   ]
  },
  {
   "cell_type": "code",
   "execution_count": 103,
   "id": "5d9edc7f-f43a-49a4-b2ae-d0d31f9fddf7",
   "metadata": {},
   "outputs": [],
   "source": [
    "A = {1, 2, 3, 4, 5}\n",
    "B = {4, 5, 6, 7, 8}\n",
    "C = {9, 10}"
   ]
  },
  {
   "cell_type": "code",
   "execution_count": 105,
   "id": "976c6221-7253-4a1e-bd58-2327c1899180",
   "metadata": {},
   "outputs": [
    {
     "data": {
      "text/plain": [
       "{1, 2, 3, 4, 5, 6, 7, 8}"
      ]
     },
     "execution_count": 105,
     "metadata": {},
     "output_type": "execute_result"
    }
   ],
   "source": [
    "A.union(B)"
   ]
  },
  {
   "cell_type": "code",
   "execution_count": 107,
   "id": "3d2b2723-0d63-4896-bb3a-c1b0a0022bc1",
   "metadata": {},
   "outputs": [
    {
     "data": {
      "text/plain": [
       "{1, 2, 3, 4, 5, 6, 7, 8, 9, 10}"
      ]
     },
     "execution_count": 107,
     "metadata": {},
     "output_type": "execute_result"
    }
   ],
   "source": [
    "A.union(B,C)"
   ]
  },
  {
   "cell_type": "code",
   "execution_count": 109,
   "id": "cd329427-94f6-44d6-99f4-d191079020b6",
   "metadata": {},
   "outputs": [
    {
     "data": {
      "text/plain": [
       "{1, 2, 3, 4, 5, 6, 7, 8}"
      ]
     },
     "execution_count": 109,
     "metadata": {},
     "output_type": "execute_result"
    }
   ],
   "source": [
    "A | B"
   ]
  },
  {
   "cell_type": "code",
   "execution_count": 111,
   "id": "57a91cef-7f19-43e3-b3cb-61c30d4a2fa8",
   "metadata": {},
   "outputs": [
    {
     "data": {
      "text/plain": [
       "{1, 2, 3, 4, 5, 6, 7, 8, 9, 10}"
      ]
     },
     "execution_count": 111,
     "metadata": {},
     "output_type": "execute_result"
    }
   ],
   "source": [
    "A | B | C"
   ]
  },
  {
   "cell_type": "code",
   "execution_count": 113,
   "id": "fa7fac6b-e712-4ee4-83a8-f5dea2c80625",
   "metadata": {},
   "outputs": [
    {
     "name": "stdout",
     "output_type": "stream",
     "text": [
      "{1, 2, 3, 4, 5}\n",
      "{4, 5, 6, 7, 8}\n",
      "{9, 10}\n"
     ]
    }
   ],
   "source": [
    "print(A)\n",
    "print(B)\n",
    "print(C)"
   ]
  },
  {
   "cell_type": "code",
   "execution_count": 115,
   "id": "f442a7fa-71eb-4c0c-a812-46a663565cbe",
   "metadata": {},
   "outputs": [
    {
     "data": {
      "text/plain": [
       "{4, 5}"
      ]
     },
     "execution_count": 115,
     "metadata": {},
     "output_type": "execute_result"
    }
   ],
   "source": [
    "A.intersection(B)"
   ]
  },
  {
   "cell_type": "code",
   "execution_count": 117,
   "id": "29766bb3-810c-4dd0-ba79-a0a054cc3f36",
   "metadata": {},
   "outputs": [
    {
     "data": {
      "text/plain": [
       "set()"
      ]
     },
     "execution_count": 117,
     "metadata": {},
     "output_type": "execute_result"
    }
   ],
   "source": [
    "A.intersection(C)"
   ]
  },
  {
   "cell_type": "code",
   "execution_count": 119,
   "id": "95a6efab-12dc-487e-83d8-c9cf01d879d0",
   "metadata": {},
   "outputs": [
    {
     "data": {
      "text/plain": [
       "set()"
      ]
     },
     "execution_count": 119,
     "metadata": {},
     "output_type": "execute_result"
    }
   ],
   "source": [
    "B.intersection(C)"
   ]
  },
  {
   "cell_type": "code",
   "execution_count": 121,
   "id": "6e09b025-5412-4788-8fae-7467f45ffca3",
   "metadata": {},
   "outputs": [
    {
     "data": {
      "text/plain": [
       "{4, 5}"
      ]
     },
     "execution_count": 121,
     "metadata": {},
     "output_type": "execute_result"
    }
   ],
   "source": [
    "A & B"
   ]
  },
  {
   "cell_type": "code",
   "execution_count": 123,
   "id": "2b1e56c1-fc4f-4d54-9729-a195f94e05a7",
   "metadata": {},
   "outputs": [
    {
     "data": {
      "text/plain": [
       "set()"
      ]
     },
     "execution_count": 123,
     "metadata": {},
     "output_type": "execute_result"
    }
   ],
   "source": [
    "B & C"
   ]
  },
  {
   "cell_type": "code",
   "execution_count": 125,
   "id": "d8183fd4-ae68-41cf-aef7-478244668974",
   "metadata": {},
   "outputs": [
    {
     "data": {
      "text/plain": [
       "set()"
      ]
     },
     "execution_count": 125,
     "metadata": {},
     "output_type": "execute_result"
    }
   ],
   "source": [
    "A & B & C"
   ]
  },
  {
   "cell_type": "code",
   "execution_count": 127,
   "id": "92e9b086-d295-4bff-8cb8-7a3399c9af81",
   "metadata": {},
   "outputs": [
    {
     "data": {
      "text/plain": [
       "{1, 2, 3, 7, 50, 78, 100}"
      ]
     },
     "execution_count": 127,
     "metadata": {},
     "output_type": "execute_result"
    }
   ],
   "source": [
    "s"
   ]
  },
  {
   "cell_type": "code",
   "execution_count": 129,
   "id": "53cf4688-a92c-4149-92bf-f49a29185584",
   "metadata": {},
   "outputs": [
    {
     "data": {
      "text/plain": [
       "{10, 3, 3.3, 5, 50, 'c', 'e', 'good', 'l', 'm', 'nit', 'o', 'w'}"
      ]
     },
     "execution_count": 129,
     "metadata": {},
     "output_type": "execute_result"
    }
   ],
   "source": [
    "s1"
   ]
  },
  {
   "cell_type": "code",
   "execution_count": 131,
   "id": "f82e8d85-bb6c-4e9e-a94f-79301c010ef4",
   "metadata": {},
   "outputs": [
    {
     "data": {
      "text/plain": [
       "{1, 2, 3, 4, 5}"
      ]
     },
     "execution_count": 131,
     "metadata": {},
     "output_type": "execute_result"
    }
   ],
   "source": [
    "A"
   ]
  },
  {
   "cell_type": "code",
   "execution_count": 133,
   "id": "146128d9-76c3-4625-95cb-7d053601d8e0",
   "metadata": {},
   "outputs": [
    {
     "data": {
      "text/plain": [
       "{4, 5, 6, 7, 8}"
      ]
     },
     "execution_count": 133,
     "metadata": {},
     "output_type": "execute_result"
    }
   ],
   "source": [
    "B"
   ]
  },
  {
   "cell_type": "code",
   "execution_count": 135,
   "id": "4057bf8e-7c9f-4061-8803-4cb52cdab70f",
   "metadata": {},
   "outputs": [
    {
     "data": {
      "text/plain": [
       "{9, 10}"
      ]
     },
     "execution_count": 135,
     "metadata": {},
     "output_type": "execute_result"
    }
   ],
   "source": [
    "C"
   ]
  },
  {
   "cell_type": "code",
   "execution_count": 137,
   "id": "3002a243-6520-431a-bb73-d62901a2192b",
   "metadata": {},
   "outputs": [
    {
     "data": {
      "text/plain": [
       "{4, 5, 6, 7, 8}"
      ]
     },
     "execution_count": 137,
     "metadata": {},
     "output_type": "execute_result"
    }
   ],
   "source": [
    "B - C"
   ]
  },
  {
   "cell_type": "code",
   "execution_count": 139,
   "id": "33b9d7b6-9e3f-49f6-93c5-1a3a1ad82210",
   "metadata": {},
   "outputs": [
    {
     "data": {
      "text/plain": [
       "{1, 2, 3}"
      ]
     },
     "execution_count": 139,
     "metadata": {},
     "output_type": "execute_result"
    }
   ],
   "source": [
    "A - B"
   ]
  },
  {
   "cell_type": "code",
   "execution_count": 141,
   "id": "2ab72814-f717-4356-9481-a7d0ab7ba9d2",
   "metadata": {},
   "outputs": [
    {
     "data": {
      "text/plain": [
       "{1, 2, 3}"
      ]
     },
     "execution_count": 141,
     "metadata": {},
     "output_type": "execute_result"
    }
   ],
   "source": [
    "A.difference(B)"
   ]
  },
  {
   "cell_type": "code",
   "execution_count": 143,
   "id": "7d0e5d9b-70f6-422d-a346-130ed151b84e",
   "metadata": {},
   "outputs": [
    {
     "data": {
      "text/plain": [
       "{4, 5, 6, 7, 8}"
      ]
     },
     "execution_count": 143,
     "metadata": {},
     "output_type": "execute_result"
    }
   ],
   "source": [
    "B.difference(C)"
   ]
  },
  {
   "cell_type": "code",
   "execution_count": 145,
   "id": "df28697b-4ce5-40ad-b013-b480e180db56",
   "metadata": {},
   "outputs": [
    {
     "data": {
      "text/plain": [
       "{9, 10}"
      ]
     },
     "execution_count": 145,
     "metadata": {},
     "output_type": "execute_result"
    }
   ],
   "source": [
    "C.difference(A)"
   ]
  },
  {
   "cell_type": "code",
   "execution_count": 147,
   "id": "7bdafc28-33c3-4f53-9ac2-5fda3cfed294",
   "metadata": {},
   "outputs": [
    {
     "data": {
      "text/plain": [
       "{1, 2, 3, 6, 7, 8}"
      ]
     },
     "execution_count": 147,
     "metadata": {},
     "output_type": "execute_result"
    }
   ],
   "source": [
    "A.symmetric_difference(B)"
   ]
  },
  {
   "cell_type": "code",
   "execution_count": 149,
   "id": "7a41231d-b79a-4c1c-ae0d-4a04fcb8d94a",
   "metadata": {},
   "outputs": [
    {
     "data": {
      "text/plain": [
       "{1, 2, 3, 6, 7, 8}"
      ]
     },
     "execution_count": 149,
     "metadata": {},
     "output_type": "execute_result"
    }
   ],
   "source": [
    "A ^ B"
   ]
  },
  {
   "cell_type": "code",
   "execution_count": 151,
   "id": "4b369a86-daa3-4be2-98a4-fbd8bd28f458",
   "metadata": {},
   "outputs": [
    {
     "data": {
      "text/plain": [
       "{1, 2, 3}"
      ]
     },
     "execution_count": 151,
     "metadata": {},
     "output_type": "execute_result"
    }
   ],
   "source": [
    "A - B"
   ]
  },
  {
   "cell_type": "code",
   "execution_count": 153,
   "id": "5d7431cd-9aa8-4492-92c4-4d45711f0094",
   "metadata": {},
   "outputs": [
    {
     "data": {
      "text/plain": [
       "{6, 7, 8}"
      ]
     },
     "execution_count": 153,
     "metadata": {},
     "output_type": "execute_result"
    }
   ],
   "source": [
    "B - A"
   ]
  },
  {
   "cell_type": "code",
   "execution_count": 155,
   "id": "4f3bc332-c989-4467-9924-7e13b43457f8",
   "metadata": {},
   "outputs": [
    {
     "name": "stdout",
     "output_type": "stream",
     "text": [
      "{1, 2, 3, 4, 5}\n",
      "{4, 5, 6, 7, 8}\n"
     ]
    }
   ],
   "source": [
    "print(A)\n",
    "print(B)"
   ]
  },
  {
   "cell_type": "code",
   "execution_count": 157,
   "id": "9033a740-98ee-4a3c-b735-9943fd04cd57",
   "metadata": {},
   "outputs": [],
   "source": [
    "B.difference_update(A)"
   ]
  },
  {
   "cell_type": "code",
   "execution_count": 165,
   "id": "5003466f-a892-4ab4-b32a-66736e1138fd",
   "metadata": {},
   "outputs": [
    {
     "data": {
      "text/plain": [
       "{6, 7, 8}"
      ]
     },
     "execution_count": 165,
     "metadata": {},
     "output_type": "execute_result"
    }
   ],
   "source": [
    "B # Updates B"
   ]
  },
  {
   "cell_type": "code",
   "execution_count": 161,
   "id": "0197a107-ee03-4795-b3eb-821b33acdda9",
   "metadata": {},
   "outputs": [],
   "source": [
    "A.difference_update(B)"
   ]
  },
  {
   "cell_type": "code",
   "execution_count": 163,
   "id": "95182acb-53a1-4034-adc9-9bb3afca7b16",
   "metadata": {},
   "outputs": [
    {
     "data": {
      "text/plain": [
       "{1, 2, 3, 4, 5}"
      ]
     },
     "execution_count": 163,
     "metadata": {},
     "output_type": "execute_result"
    }
   ],
   "source": [
    "A"
   ]
  },
  {
   "cell_type": "code",
   "execution_count": 167,
   "id": "d78ef4d3-5925-4349-9a66-c1fdc9f2c464",
   "metadata": {},
   "outputs": [],
   "source": [
    "A.symmetric_difference_update(B)"
   ]
  },
  {
   "cell_type": "code",
   "execution_count": 169,
   "id": "8014d3ca-2a57-4b58-bdfb-f4b1d4aee79f",
   "metadata": {},
   "outputs": [
    {
     "data": {
      "text/plain": [
       "{1, 2, 3, 4, 5, 6, 7, 8}"
      ]
     },
     "execution_count": 169,
     "metadata": {},
     "output_type": "execute_result"
    }
   ],
   "source": [
    "A"
   ]
  },
  {
   "cell_type": "code",
   "execution_count": 171,
   "id": "92168046-1b6b-4bab-b77a-b58ea5aee239",
   "metadata": {},
   "outputs": [],
   "source": [
    "A1 = {1,2,3,4,5,6,7,8,9}\n",
    "B1 = {3,4,5,6,7,8}\n",
    "C1 = {10,20,30,40}"
   ]
  },
  {
   "cell_type": "code",
   "execution_count": 173,
   "id": "447a1885-fee3-49e9-b84e-52d3c736b0d3",
   "metadata": {},
   "outputs": [
    {
     "data": {
      "text/plain": [
       "True"
      ]
     },
     "execution_count": 173,
     "metadata": {},
     "output_type": "execute_result"
    }
   ],
   "source": [
    "B1.issubset(A1)"
   ]
  },
  {
   "cell_type": "code",
   "execution_count": 175,
   "id": "6e80d0d6-ee77-4f72-aa7a-b0a62532dd6b",
   "metadata": {},
   "outputs": [
    {
     "data": {
      "text/plain": [
       "False"
      ]
     },
     "execution_count": 175,
     "metadata": {},
     "output_type": "execute_result"
    }
   ],
   "source": [
    "C1.issubset(A1)"
   ]
  },
  {
   "cell_type": "code",
   "execution_count": 179,
   "id": "5fba4703-0389-4583-a8d2-d04e4ac58c6a",
   "metadata": {},
   "outputs": [
    {
     "data": {
      "text/plain": [
       "False"
      ]
     },
     "execution_count": 179,
     "metadata": {},
     "output_type": "execute_result"
    }
   ],
   "source": [
    "C1.issubset(B1)"
   ]
  },
  {
   "cell_type": "code",
   "execution_count": 181,
   "id": "55d95816-46e9-41c6-9114-0e49d4ba4fe6",
   "metadata": {},
   "outputs": [
    {
     "data": {
      "text/plain": [
       "False"
      ]
     },
     "execution_count": 181,
     "metadata": {},
     "output_type": "execute_result"
    }
   ],
   "source": [
    "C1.issubset(A1)"
   ]
  },
  {
   "cell_type": "code",
   "execution_count": 183,
   "id": "4227ca8f-a1a8-402b-9227-ea16db8ad622",
   "metadata": {},
   "outputs": [
    {
     "data": {
      "text/plain": [
       "True"
      ]
     },
     "execution_count": 183,
     "metadata": {},
     "output_type": "execute_result"
    }
   ],
   "source": [
    "C1.isdisjoint(A1)"
   ]
  },
  {
   "cell_type": "code",
   "execution_count": 185,
   "id": "888599e3-fdb4-47a1-9856-274cf13aa1e3",
   "metadata": {},
   "outputs": [
    {
     "data": {
      "text/plain": [
       "True"
      ]
     },
     "execution_count": 185,
     "metadata": {},
     "output_type": "execute_result"
    }
   ],
   "source": [
    "C1.isdisjoint(B1)"
   ]
  },
  {
   "cell_type": "code",
   "execution_count": 187,
   "id": "f55dcaf1-cd39-4655-8378-13d0bb746ead",
   "metadata": {},
   "outputs": [
    {
     "data": {
      "text/plain": [
       "True"
      ]
     },
     "execution_count": 187,
     "metadata": {},
     "output_type": "execute_result"
    }
   ],
   "source": [
    "A1.issuperset(B1)"
   ]
  },
  {
   "cell_type": "code",
   "execution_count": 189,
   "id": "78525a87-3a77-436e-b019-32c985d47e39",
   "metadata": {},
   "outputs": [
    {
     "data": {
      "text/plain": [
       "False"
      ]
     },
     "execution_count": 189,
     "metadata": {},
     "output_type": "execute_result"
    }
   ],
   "source": [
    "A1.issuperset(C1)"
   ]
  },
  {
   "cell_type": "code",
   "execution_count": 191,
   "id": "a41b0869-0e7b-43ed-87db-0c5780420da1",
   "metadata": {},
   "outputs": [
    {
     "data": {
      "text/plain": [
       "False"
      ]
     },
     "execution_count": 191,
     "metadata": {},
     "output_type": "execute_result"
    }
   ],
   "source": [
    "B1.issuperset(A1)"
   ]
  },
  {
   "cell_type": "code",
   "execution_count": 193,
   "id": "d2718c4f-2cda-44f7-83bc-46db299aac49",
   "metadata": {},
   "outputs": [
    {
     "data": {
      "text/plain": [
       "{1, 2, 3, 4, 5, 6, 7, 8}"
      ]
     },
     "execution_count": 193,
     "metadata": {},
     "output_type": "execute_result"
    }
   ],
   "source": [
    "A"
   ]
  },
  {
   "cell_type": "code",
   "execution_count": 195,
   "id": "cd162776-db84-4dbd-8c7c-b4c1162f903f",
   "metadata": {},
   "outputs": [],
   "source": [
    "A_fz = frozenset(A)"
   ]
  },
  {
   "cell_type": "code",
   "execution_count": 197,
   "id": "5cb670d5-21ca-4374-a3a3-54d5ab3e41dd",
   "metadata": {},
   "outputs": [
    {
     "data": {
      "text/plain": [
       "frozenset"
      ]
     },
     "execution_count": 197,
     "metadata": {},
     "output_type": "execute_result"
    }
   ],
   "source": [
    "type(A_fz)"
   ]
  },
  {
   "cell_type": "code",
   "execution_count": 199,
   "id": "78014e20-d80b-4ba5-bec1-c07ccdb76e1b",
   "metadata": {},
   "outputs": [
    {
     "ename": "AttributeError",
     "evalue": "'frozenset' object has no attribute 'add'",
     "output_type": "error",
     "traceback": [
      "\u001b[1;31m---------------------------------------------------------------------------\u001b[0m",
      "\u001b[1;31mAttributeError\u001b[0m                            Traceback (most recent call last)",
      "Cell \u001b[1;32mIn[199], line 1\u001b[0m\n\u001b[1;32m----> 1\u001b[0m A_fz\u001b[38;5;241m.\u001b[39madd(\u001b[38;5;241m10\u001b[39m)\n",
      "\u001b[1;31mAttributeError\u001b[0m: 'frozenset' object has no attribute 'add'"
     ]
    }
   ],
   "source": [
    "A_fz.add(10)"
   ]
  }
 ],
 "metadata": {
  "kernelspec": {
   "display_name": "Python 3 (ipykernel)",
   "language": "python",
   "name": "python3"
  },
  "language_info": {
   "codemirror_mode": {
    "name": "ipython",
    "version": 3
   },
   "file_extension": ".py",
   "mimetype": "text/x-python",
   "name": "python",
   "nbconvert_exporter": "python",
   "pygments_lexer": "ipython3",
   "version": "3.11.7"
  }
 },
 "nbformat": 4,
 "nbformat_minor": 5
}
