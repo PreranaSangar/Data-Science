{
 "cells": [
  {
   "cell_type": "code",
   "execution_count": 1,
   "id": "b95a7114-1561-4cc5-afd4-f83ecefdb90f",
   "metadata": {},
   "outputs": [
    {
     "name": "stdout",
     "output_type": "stream",
     "text": [
      "Data Science\n"
     ]
    }
   ],
   "source": [
    "if True:\n",
    "    print('Data Science')"
   ]
  },
  {
   "cell_type": "code",
   "execution_count": 2,
   "id": "54eae90f-9bba-4931-845f-e81792d455ea",
   "metadata": {},
   "outputs": [
    {
     "name": "stdout",
     "output_type": "stream",
     "text": [
      "bye for later\n"
     ]
    }
   ],
   "source": [
    "if False:\n",
    "    print('Data Science')\n",
    "print('bye for later')    "
   ]
  },
  {
   "cell_type": "code",
   "execution_count": 3,
   "id": "b8a3f841-ccd7-4dc1-a3e3-5429351cb922",
   "metadata": {},
   "outputs": [
    {
     "name": "stdout",
     "output_type": "stream",
     "text": [
      "Data Science\n",
      "bye for later\n"
     ]
    }
   ],
   "source": [
    "if True:\n",
    "    print('Data Science')\n",
    "print('bye for later')    "
   ]
  },
  {
   "cell_type": "code",
   "execution_count": 4,
   "id": "173e17f1-b744-4b77-9b20-34a2dd61c652",
   "metadata": {},
   "outputs": [
    {
     "name": "stdout",
     "output_type": "stream",
     "text": [
      "Even Number\n"
     ]
    }
   ],
   "source": [
    "# to print only Even Nmber\n",
    "x=4\n",
    "r=x%2\n",
    "if r==0:\n",
    "    print('Even Number')"
   ]
  },
  {
   "cell_type": "code",
   "execution_count": 6,
   "id": "2f563a8a-93e0-4db0-8bc1-e2cb7e80f5ac",
   "metadata": {},
   "outputs": [],
   "source": [
    "# to print only Even Nmber\n",
    "x=11\n",
    "r=x%2\n",
    "if r==0:\n",
    "    print('Even Number')"
   ]
  },
  {
   "cell_type": "code",
   "execution_count": 7,
   "id": "9b400f80-9d46-4668-a8e9-3362d2b14476",
   "metadata": {},
   "outputs": [
    {
     "name": "stdout",
     "output_type": "stream",
     "text": [
      "Odd Number\n"
     ]
    }
   ],
   "source": [
    "x=5\n",
    "r=x%2\n",
    "if r==0:\n",
    "    print('Even Number')\n",
    "print('Odd Number')    "
   ]
  },
  {
   "cell_type": "code",
   "execution_count": 8,
   "id": "bbc5286a-6c01-4b4c-af20-b46ad90a9668",
   "metadata": {},
   "outputs": [
    {
     "name": "stdout",
     "output_type": "stream",
     "text": [
      "Even Number\n",
      "Odd Number\n"
     ]
    }
   ],
   "source": [
    "x=8\n",
    "r=x%2\n",
    "if r==0:\n",
    "    print('Even Number')\n",
    "print('Odd Number')    "
   ]
  },
  {
   "cell_type": "code",
   "execution_count": 9,
   "id": "f36f93cb-ae1e-4e6a-b499-5b068cf788ba",
   "metadata": {},
   "outputs": [
    {
     "name": "stdout",
     "output_type": "stream",
     "text": [
      "Even Number\n"
     ]
    }
   ],
   "source": [
    "x=8\n",
    "r=x%2\n",
    "if r==0:\n",
    "    print('Even Number')\n",
    "if r==1:\n",
    "    print('Odd Number')"
   ]
  },
  {
   "cell_type": "code",
   "execution_count": 10,
   "id": "d286b176-9dbe-4fec-bf12-a7a0fee9aa6c",
   "metadata": {},
   "outputs": [
    {
     "name": "stdout",
     "output_type": "stream",
     "text": [
      "Odd Number\n"
     ]
    }
   ],
   "source": [
    "x=3\n",
    "r=x%2\n",
    "if r==0:\n",
    "    print('Even Number')\n",
    "if r==1:\n",
    "    print('Odd Number')"
   ]
  },
  {
   "cell_type": "code",
   "execution_count": 12,
   "id": "cf2123fb-a2ca-4fb9-9e32-beb50b09fc59",
   "metadata": {},
   "outputs": [
    {
     "name": "stdout",
     "output_type": "stream",
     "text": [
      "Odd Number\n"
     ]
    }
   ],
   "source": [
    "x=17\n",
    "r=x%2\n",
    "if r==0:\n",
    "    print('Even Number')\n",
    "if r!=0:\n",
    "    print('Odd Number')"
   ]
  },
  {
   "cell_type": "code",
   "execution_count": 13,
   "id": "9d13ac8f-c5b3-4771-b498-5232d709af83",
   "metadata": {},
   "outputs": [
    {
     "name": "stdout",
     "output_type": "stream",
     "text": [
      "Even Number\n"
     ]
    }
   ],
   "source": [
    "x=2\n",
    "r=x%2\n",
    "if r==0:\n",
    "    print('Even Number')\n",
    "else:\n",
    "    print('Odd Number')"
   ]
  },
  {
   "cell_type": "code",
   "execution_count": 14,
   "id": "f1c393c1-1411-40e8-a25a-878d53931029",
   "metadata": {},
   "outputs": [
    {
     "name": "stdout",
     "output_type": "stream",
     "text": [
      "Even Number\n",
      "greater Number\n"
     ]
    }
   ],
   "source": [
    "x=6\n",
    "r=x%2\n",
    "if r==0:\n",
    "    print('Even Number')\n",
    "    if x>5:\n",
    "        print('greater Number')\n",
    "    else:\n",
    "        print('Not greater')\n",
    "else:\n",
    "    print('Odd Number')"
   ]
  },
  {
   "cell_type": "code",
   "execution_count": 19,
   "id": "7a364a7f-b90a-4483-be03-8dc73e6b04ec",
   "metadata": {},
   "outputs": [
    {
     "name": "stdout",
     "output_type": "stream",
     "text": [
      "Odd Number\n"
     ]
    }
   ],
   "source": [
    "x=9\n",
    "r=x%2\n",
    "if r==0:\n",
    "    print('Even Number')\n",
    "    if x>5:\n",
    "        print('greater Number')\n",
    "    else:\n",
    "        print('Not greater')\n",
    "else:\n",
    "    print('Odd Number')"
   ]
  },
  {
   "cell_type": "code",
   "execution_count": 21,
   "id": "8425a6ea-0a5a-43ab-b866-71e9f135009a",
   "metadata": {},
   "outputs": [
    {
     "name": "stdout",
     "output_type": "stream",
     "text": [
      "one\n"
     ]
    }
   ],
   "source": [
    "x=1\n",
    "if(x==1):\n",
    "    print('one')\n",
    "if(x==2):\n",
    "    print('two')\n",
    "if(x==3):\n",
    "    print('three')\n",
    "if(x==4):\n",
    "    print('four')"
   ]
  },
  {
   "cell_type": "code",
   "execution_count": 26,
   "id": "843579d8-67e0-4ad6-bf83-282c424bf23d",
   "metadata": {},
   "outputs": [
    {
     "name": "stdout",
     "output_type": "stream",
     "text": [
      "two\n"
     ]
    }
   ],
   "source": [
    "x=2\n",
    "if(x==1):\n",
    "    print('one')\n",
    "elif(x==2):\n",
    "    print('two')\n",
    "elif(x==3):\n",
    "    print('three')\n",
    "elif(x==4):\n",
    "    print('four')"
   ]
  },
  {
   "cell_type": "code",
   "execution_count": 28,
   "id": "8c55149f-5af7-4d97-9d7b-c168bc94b61c",
   "metadata": {},
   "outputs": [],
   "source": [
    "x=5\n",
    "if(x==1):\n",
    "    print('one')\n",
    "elif(x==2):\n",
    "    print('two')\n",
    "elif(x==3):\n",
    "    print('three')\n",
    "elif(x==4):\n",
    "    print('four')"
   ]
  },
  {
   "cell_type": "code",
   "execution_count": 29,
   "id": "cd5f6451-48ca-454d-bd52-b763cd0bdf1e",
   "metadata": {},
   "outputs": [
    {
     "name": "stdout",
     "output_type": "stream",
     "text": [
      "wrong output\n"
     ]
    }
   ],
   "source": [
    "x=5\n",
    "if(x==1):\n",
    "    print('one')\n",
    "elif(x==2):\n",
    "    print('two')\n",
    "elif(x==3):\n",
    "    print('three')\n",
    "elif(x==4):\n",
    "    print('four')\n",
    "else:\n",
    "    print('wrong output')"
   ]
  },
  {
   "cell_type": "code",
   "execution_count": 31,
   "id": "c8a39667-b209-4a11-9875-527af93401b3",
   "metadata": {},
   "outputs": [
    {
     "name": "stdout",
     "output_type": "stream",
     "text": [
      "data Science\n"
     ]
    }
   ],
   "source": [
    "print('data Science')"
   ]
  },
  {
   "cell_type": "code",
   "execution_count": 32,
   "id": "794a76b4-a31e-477c-9905-2de38cd72474",
   "metadata": {},
   "outputs": [
    {
     "name": "stdout",
     "output_type": "stream",
     "text": [
      "data Science\n",
      "data Science\n"
     ]
    }
   ],
   "source": [
    "print('data Science')\n",
    "print('data Science')"
   ]
  },
  {
   "cell_type": "code",
   "execution_count": 33,
   "id": "e0027df0-38cc-44e4-a736-2f68c48101cd",
   "metadata": {},
   "outputs": [
    {
     "name": "stdout",
     "output_type": "stream",
     "text": [
      "data science\n",
      "data science\n",
      "data science\n",
      "data science\n",
      "data science\n"
     ]
    }
   ],
   "source": [
    "i=1\n",
    "while i<=5:\n",
    "    print('data science')\n",
    "    i=i+1\n"
   ]
  },
  {
   "cell_type": "code",
   "execution_count": 36,
   "id": "686ce290-edd5-432e-90d9-1c41f36c37d2",
   "metadata": {},
   "outputs": [
    {
     "name": "stdout",
     "output_type": "stream",
     "text": [
      "Data Science\n",
      "Data Science\n",
      "Data Science\n",
      "Data Science\n",
      "Data Science\n"
     ]
    }
   ],
   "source": [
    "i=5\n",
    "while i>=1:\n",
    "    print('Data Science')\n",
    "    i=i-1"
   ]
  },
  {
   "cell_type": "code",
   "execution_count": 37,
   "id": "125d80cb-ba51-4f2c-af1c-cb9eb54edde0",
   "metadata": {},
   "outputs": [
    {
     "name": "stdout",
     "output_type": "stream",
     "text": [
      "data science : 1\n",
      "data science : 2\n",
      "data science : 3\n",
      "data science : 4\n",
      "data science : 5\n"
     ]
    }
   ],
   "source": [
    "i=1\n",
    "while i<=5:\n",
    "    print('data science',':',i)\n",
    "    i=i+1"
   ]
  },
  {
   "cell_type": "code",
   "execution_count": 38,
   "id": "8e1cc4e1-eedd-4687-ab2e-eef5696fcb19",
   "metadata": {},
   "outputs": [
    {
     "name": "stdout",
     "output_type": "stream",
     "text": [
      "data science : 5\n",
      "data science : 4\n",
      "data science : 3\n",
      "data science : 2\n",
      "data science : 1\n"
     ]
    }
   ],
   "source": [
    "i=5\n",
    "while i>=1:\n",
    "    print('data science',':',i)\n",
    "    i=i-1"
   ]
  },
  {
   "cell_type": "code",
   "execution_count": 39,
   "id": "9d8d1f0a-0dfb-43e8-ac93-4d4e14d79955",
   "metadata": {},
   "outputs": [
    {
     "name": "stdout",
     "output_type": "stream",
     "text": [
      " data science\n",
      " technology\n",
      " technology\n",
      " technology\n",
      " technology\n",
      "\n",
      " data science\n",
      " technology\n",
      " technology\n",
      " technology\n",
      " technology\n",
      "\n",
      " data science\n",
      " technology\n",
      " technology\n",
      " technology\n",
      " technology\n",
      "\n",
      " data science\n",
      " technology\n",
      " technology\n",
      " technology\n",
      " technology\n",
      "\n",
      " data science\n",
      " technology\n",
      " technology\n",
      " technology\n",
      " technology\n",
      "\n"
     ]
    }
   ],
   "source": [
    "i = 1\n",
    "\n",
    "while i<=5:\n",
    "    print(' data science') # when we mention end then new line will not create\n",
    "    j = 1\n",
    "    while j<=4:\n",
    "        print(' technology')\n",
    "        j = j + 1\n",
    "        \n",
    "    i = i + 1\n",
    "    print()"
   ]
  },
  {
   "cell_type": "code",
   "execution_count": 40,
   "id": "11e17fe5-645e-4598-91bc-c969333fb99e",
   "metadata": {},
   "outputs": [
    {
     "name": "stdout",
     "output_type": "stream",
     "text": [
      " data science technology technology technology technology\n",
      " data science technology technology technology technology\n",
      " data science technology technology technology technology\n",
      " data science technology technology technology technology\n",
      " data science technology technology technology technology\n"
     ]
    }
   ],
   "source": [
    "i = 1\n",
    "while i<=5:\n",
    "    print(' data science', end = \"\") # when we mention end then new line will not create\n",
    "    j = 1\n",
    "    while j<=4:\n",
    "        print(' technology', end=\"\")\n",
    "        j = j + 1\n",
    "        \n",
    "    i = i + 1\n",
    "    print()"
   ]
  },
  {
   "cell_type": "code",
   "execution_count": 42,
   "id": "e40723b2-d74b-40da-8bd0-fdc64543c5df",
   "metadata": {},
   "outputs": [
    {
     "name": "stdout",
     "output_type": "stream",
     "text": [
      " data science * technology * technology * technology * technology *\n",
      " data science * technology * technology * technology * technology *\n",
      " data science * technology * technology * technology * technology *\n",
      " data science * technology * technology * technology * technology *\n",
      " data science * technology * technology * technology * technology *\n"
     ]
    }
   ],
   "source": [
    "i = 1\n",
    "while i<=5:\n",
    "    print(' data science', end = \" *\") # when we mention end then new line will not create\n",
    "    j = 1\n",
    "    while j<=4:\n",
    "        print(' technology', end=\" *\")\n",
    "        j = j + 1\n",
    "        \n",
    "    i = i + 1\n",
    "    print()"
   ]
  },
  {
   "cell_type": "code",
   "execution_count": 43,
   "id": "e7a82185-4f93-451b-a997-77e8d9ab9f0d",
   "metadata": {},
   "outputs": [
    {
     "name": "stdout",
     "output_type": "stream",
     "text": [
      "0 1 2 3 \n",
      "0 2 4 6 \n",
      "0 3 6 9 \n",
      "0 4 8 12 \n"
     ]
    }
   ],
   "source": [
    "i = 1\n",
    "while i <= 4 :\n",
    "    j = 0\n",
    "    while  j <= 3 :\n",
    "        print(i*j, end=\" \")\n",
    "        j += 1\n",
    "    print()\n",
    "    i += 1"
   ]
  },
  {
   "cell_type": "code",
   "execution_count": null,
   "id": "dc98cf7c-93dc-49a5-abae-38df3efd66fc",
   "metadata": {},
   "outputs": [],
   "source": []
  }
 ],
 "metadata": {
  "kernelspec": {
   "display_name": "Python 3 (ipykernel)",
   "language": "python",
   "name": "python3"
  },
  "language_info": {
   "codemirror_mode": {
    "name": "ipython",
    "version": 3
   },
   "file_extension": ".py",
   "mimetype": "text/x-python",
   "name": "python",
   "nbconvert_exporter": "python",
   "pygments_lexer": "ipython3",
   "version": "3.12.7"
  }
 },
 "nbformat": 4,
 "nbformat_minor": 5
}
