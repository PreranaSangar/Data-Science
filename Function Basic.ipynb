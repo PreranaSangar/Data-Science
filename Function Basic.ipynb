{
 "cells": [
  {
   "cell_type": "code",
   "execution_count": 1,
   "id": "7bbce502-2edc-41ea-92ac-43b651248810",
   "metadata": {},
   "outputs": [
    {
     "name": "stdout",
     "output_type": "stream",
     "text": [
      "PRERANA\n"
     ]
    }
   ],
   "source": [
    "def name():\n",
    "    print('PRERANA')\n",
    "name()     "
   ]
  },
  {
   "cell_type": "code",
   "execution_count": 6,
   "id": "14a9e7dc-052c-43c1-9c42-7bc346915b80",
   "metadata": {},
   "outputs": [
    {
     "name": "stdout",
     "output_type": "stream",
     "text": [
      "PRERANA\n",
      "PRERANA\n",
      "PRERANA\n"
     ]
    }
   ],
   "source": [
    "def name():\n",
    "    print('PRERANA')\n",
    "name()\n",
    "name() \n",
    "name()     "
   ]
  },
  {
   "cell_type": "code",
   "execution_count": 14,
   "id": "cd4e57ab-3194-4c6b-9734-30cdcf55b8e8",
   "metadata": {},
   "outputs": [
    {
     "name": "stdout",
     "output_type": "stream",
     "text": [
      "I am Prerana\n"
     ]
    }
   ],
   "source": [
    "def intro():\n",
    "    print('I am Prerana')\n",
    "intro()"
   ]
  },
  {
   "cell_type": "code",
   "execution_count": 7,
   "id": "70f73b33-cf77-4c0d-871f-c939e137490b",
   "metadata": {},
   "outputs": [
    {
     "name": "stdout",
     "output_type": "stream",
     "text": [
      "Even\n"
     ]
    }
   ],
   "source": [
    "def evodd(n):\n",
    "    if(n%2==0):\n",
    "        print('Even')\n",
    "    else:\n",
    "        print('odd')\n",
    "evodd(10)      "
   ]
  },
  {
   "cell_type": "code",
   "execution_count": 9,
   "id": "6efa1b4f-adc9-41b3-9803-6fe063ebf0af",
   "metadata": {},
   "outputs": [
    {
     "name": "stdout",
     "output_type": "stream",
     "text": [
      "Divisible\n"
     ]
    }
   ],
   "source": [
    "def div(n):\n",
    "    if(n%3==0 and n%5==0):\n",
    "        print('Divisible')\n",
    "    else:\n",
    "        print('Not Divisible')\n",
    "div(15)        "
   ]
  },
  {
   "cell_type": "code",
   "execution_count": 13,
   "id": "a6dd6f4b-2c62-46b4-9da8-23160cb8b173",
   "metadata": {},
   "outputs": [
    {
     "name": "stdin",
     "output_type": "stream",
     "text": [
      "Enter value of n 15\n"
     ]
    },
    {
     "name": "stdout",
     "output_type": "stream",
     "text": [
      "Divisible\n"
     ]
    }
   ],
   "source": [
    "def div():\n",
    "    n=int(input('Enter value of n'))\n",
    "    if(n%3==0 and n%5==0):\n",
    "        print('Divisible')\n",
    "    else:\n",
    "        print('Not Divisible')\n",
    "div()        \n",
    "\n"
   ]
  },
  {
   "cell_type": "code",
   "execution_count": 16,
   "id": "ceab24a2-2e01-4fd0-a216-a40eb0f06b9c",
   "metadata": {},
   "outputs": [
    {
     "name": "stdin",
     "output_type": "stream",
     "text": [
      "Enter value of n 20\n"
     ]
    },
    {
     "name": "stdout",
     "output_type": "stream",
     "text": [
      "Divisible\n"
     ]
    }
   ],
   "source": [
    "def div():\n",
    "    n=int(input('Enter value of n'))\n",
    "    if(n%3==0 or n%5==0):\n",
    "        print('Divisible')\n",
    "    else:\n",
    "        print('Not Divisible')\n",
    "div()        \n",
    "\n"
   ]
  }
 ],
 "metadata": {
  "kernelspec": {
   "display_name": "Python 3 (ipykernel)",
   "language": "python",
   "name": "python3"
  },
  "language_info": {
   "codemirror_mode": {
    "name": "ipython",
    "version": 3
   },
   "file_extension": ".py",
   "mimetype": "text/x-python",
   "name": "python",
   "nbconvert_exporter": "python",
   "pygments_lexer": "ipython3",
   "version": "3.12.7"
  }
 },
 "nbformat": 4,
 "nbformat_minor": 5
}
