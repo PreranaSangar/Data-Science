{
 "cells": [
  {
   "cell_type": "markdown",
   "id": "f7039c25-f3b0-480d-a50f-8a1789f71330",
   "metadata": {},
   "source": [
    "Creating Numpy Array"
   ]
  },
  {
   "cell_type": "code",
   "execution_count": 1,
   "id": "1639f373-b6a8-43f6-b805-297d920973d1",
   "metadata": {},
   "outputs": [],
   "source": [
    "import numpy  as np"
   ]
  },
  {
   "cell_type": "code",
   "execution_count": 2,
   "id": "a80c5ec7-6664-4357-aceb-6da73bfc6a9e",
   "metadata": {},
   "outputs": [
    {
     "data": {
      "text/plain": [
       "array([ 3,  5, 89, 43])"
      ]
     },
     "execution_count": 2,
     "metadata": {},
     "output_type": "execute_result"
    }
   ],
   "source": [
    "np.array([3,5,89,43]) # 1D Array (also called as Vector)"
   ]
  },
  {
   "cell_type": "code",
   "execution_count": 3,
   "id": "8b8658fb-ca9b-4ce3-a07e-5306d54e6942",
   "metadata": {},
   "outputs": [
    {
     "name": "stdout",
     "output_type": "stream",
     "text": [
      "[ 3  5 89 43]\n"
     ]
    }
   ],
   "source": [
    "a=np.array([3,5,89,43])\n",
    "print(a)"
   ]
  },
  {
   "cell_type": "code",
   "execution_count": 4,
   "id": "f9be614c-5eeb-4338-a83d-48ebf810d967",
   "metadata": {},
   "outputs": [
    {
     "data": {
      "text/plain": [
       "numpy.ndarray"
      ]
     },
     "execution_count": 4,
     "metadata": {},
     "output_type": "execute_result"
    }
   ],
   "source": [
    "type(a)"
   ]
  },
  {
   "cell_type": "code",
   "execution_count": 5,
   "id": "53dfe888-6cd9-4ac6-bd40-ed263aedca71",
   "metadata": {},
   "outputs": [
    {
     "data": {
      "text/plain": [
       "array([[ 3, 89, 65, 48, 87],\n",
       "       [23, 98, 91, 83, 65]])"
      ]
     },
     "execution_count": 5,
     "metadata": {},
     "output_type": "execute_result"
    }
   ],
   "source": [
    "np.array([[3,89,65,48,87],[23,98,91,83,65]]) # 2D Array (is also caled as matrix)"
   ]
  },
  {
   "cell_type": "code",
   "execution_count": 6,
   "id": "49885c37-eba5-4307-a5a2-128fd887b7eb",
   "metadata": {},
   "outputs": [
    {
     "data": {
      "text/plain": [
       "array([[23, 98, 76, 47],\n",
       "       [82, 49, 20, 30],\n",
       "       [ 6,  8, 23, 12]])"
      ]
     },
     "execution_count": 6,
     "metadata": {},
     "output_type": "execute_result"
    }
   ],
   "source": [
    "np.array([[23,98,76,47],[82,49,20,30],[6,8,23,12]]) #3D Array (is also called Tensor)"
   ]
  },
  {
   "cell_type": "markdown",
   "id": "a3958068-6966-4853-b36c-ff3b1d03712b",
   "metadata": {},
   "source": [
    "dtype"
   ]
  },
  {
   "cell_type": "code",
   "execution_count": 7,
   "id": "1fd7eb4e-41bd-4d49-9bc1-8da5237aba1a",
   "metadata": {},
   "outputs": [
    {
     "data": {
      "text/plain": [
       "array([34.,  5.,  6.])"
      ]
     },
     "execution_count": 7,
     "metadata": {},
     "output_type": "execute_result"
    }
   ],
   "source": [
    "np.array([34,5,6],dtype=float)"
   ]
  },
  {
   "cell_type": "code",
   "execution_count": 8,
   "id": "2b0c6dfa-7064-48b4-acdb-700c392b3103",
   "metadata": {},
   "outputs": [
    {
     "data": {
      "text/plain": [
       "array([ True,  True,  True])"
      ]
     },
     "execution_count": 8,
     "metadata": {},
     "output_type": "execute_result"
    }
   ],
   "source": [
    "np.array([34,5,6],dtype=bool)"
   ]
  },
  {
   "cell_type": "code",
   "execution_count": 9,
   "id": "bfe45d6a-eec9-4715-88a9-f57ae1178f17",
   "metadata": {},
   "outputs": [
    {
     "data": {
      "text/plain": [
       "array([34.+0.j,  5.+0.j,  6.+0.j])"
      ]
     },
     "execution_count": 9,
     "metadata": {},
     "output_type": "execute_result"
    }
   ],
   "source": [
    "np.array([34,5,6],dtype=complex)"
   ]
  },
  {
   "cell_type": "code",
   "execution_count": 10,
   "id": "222a1d40-7ef8-4cc9-bdfc-6deae1815ba4",
   "metadata": {},
   "outputs": [
    {
     "data": {
      "text/plain": [
       "array(['34', '5', '6'], dtype='<U2')"
      ]
     },
     "execution_count": 10,
     "metadata": {},
     "output_type": "execute_result"
    }
   ],
   "source": [
    "np.array([34,5,6],dtype=str)"
   ]
  },
  {
   "cell_type": "markdown",
   "id": "432a6576-941c-490a-b045-720a55609f9b",
   "metadata": {},
   "source": [
    "arange"
   ]
  },
  {
   "cell_type": "code",
   "execution_count": 11,
   "id": "b207f432-22b1-4811-8291-a7059da99a22",
   "metadata": {},
   "outputs": [
    {
     "data": {
      "text/plain": [
       "array([0, 1, 2])"
      ]
     },
     "execution_count": 11,
     "metadata": {},
     "output_type": "execute_result"
    }
   ],
   "source": [
    "np.arange(3)"
   ]
  },
  {
   "cell_type": "code",
   "execution_count": 12,
   "id": "e17916a8-8c94-4f69-bc34-f874322d6d43",
   "metadata": {},
   "outputs": [
    {
     "data": {
      "text/plain": [
       "array([2, 3, 4, 5])"
      ]
     },
     "execution_count": 12,
     "metadata": {},
     "output_type": "execute_result"
    }
   ],
   "source": [
    "np.arange(2,6)"
   ]
  },
  {
   "cell_type": "code",
   "execution_count": 13,
   "id": "8d2013f0-27a6-40f3-9965-2a7ac0260751",
   "metadata": {},
   "outputs": [
    {
     "data": {
      "text/plain": [
       "array([ 2,  4,  6,  8, 10, 12, 14, 16, 18])"
      ]
     },
     "execution_count": 13,
     "metadata": {},
     "output_type": "execute_result"
    }
   ],
   "source": [
    "np.arange(2,20,2)"
   ]
  },
  {
   "cell_type": "markdown",
   "id": "01277f99-16e7-4508-9932-05e5d167d999",
   "metadata": {},
   "source": [
    "reshape\n"
   ]
  },
  {
   "cell_type": "raw",
   "id": "96059146-21fa-4a49-a0b1-52e647834154",
   "metadata": {},
   "source": [
    "both of the number product should be equal to number of items present indide the arrary"
   ]
  },
  {
   "cell_type": "code",
   "execution_count": 14,
   "id": "59628160-5ed5-423c-a405-79ad9a590223",
   "metadata": {},
   "outputs": [
    {
     "data": {
      "text/plain": [
       "array([[ 1,  2],\n",
       "       [ 3,  4],\n",
       "       [ 5,  6],\n",
       "       [ 7,  8],\n",
       "       [ 9, 10]])"
      ]
     },
     "execution_count": 14,
     "metadata": {},
     "output_type": "execute_result"
    }
   ],
   "source": [
    "np.arange(1,11).reshape(5,2)"
   ]
  },
  {
   "cell_type": "code",
   "execution_count": 15,
   "id": "da1b951b-8d5c-4d40-b25e-87627e57371e",
   "metadata": {},
   "outputs": [
    {
     "data": {
      "text/plain": [
       "array([[ 1,  6],\n",
       "       [ 2,  7],\n",
       "       [ 3,  8],\n",
       "       [ 4,  9],\n",
       "       [ 5, 10]])"
      ]
     },
     "execution_count": 15,
     "metadata": {},
     "output_type": "execute_result"
    }
   ],
   "source": [
    "np.arange(1,11).reshape(5,2 ,order='F')"
   ]
  },
  {
   "cell_type": "code",
   "execution_count": 16,
   "id": "1796151a-589f-43cd-aea3-6b6e027b138d",
   "metadata": {},
   "outputs": [
    {
     "data": {
      "text/plain": [
       "array([[ 1,  2,  3,  4,  5],\n",
       "       [ 6,  7,  8,  9, 10]])"
      ]
     },
     "execution_count": 16,
     "metadata": {},
     "output_type": "execute_result"
    }
   ],
   "source": [
    "np.arange(1,11).reshape(2,5 ,order='A')"
   ]
  },
  {
   "cell_type": "code",
   "execution_count": 17,
   "id": "581761b6-f223-4988-8da5-ce5ee3b0d3cd",
   "metadata": {},
   "outputs": [
    {
     "data": {
      "text/plain": [
       "array([[ 1,  2,  3,  4,  5,  6,  7],\n",
       "       [ 8,  9, 10, 11, 12, 13, 14]])"
      ]
     },
     "execution_count": 17,
     "metadata": {},
     "output_type": "execute_result"
    }
   ],
   "source": [
    "np.arange(1,15).reshape(2,7,order='A')"
   ]
  },
  {
   "cell_type": "code",
   "execution_count": 18,
   "id": "b3e61610-eb2d-4acf-98f2-af330baa41a0",
   "metadata": {},
   "outputs": [
    {
     "data": {
      "text/plain": [
       "array([[1, 2, 3, 4],\n",
       "       [5, 6, 7, 8]])"
      ]
     },
     "execution_count": 18,
     "metadata": {},
     "output_type": "execute_result"
    }
   ],
   "source": [
    "np.arange(1,9).reshape(2,4,order='A')"
   ]
  },
  {
   "cell_type": "code",
   "execution_count": 19,
   "id": "ada300e4-b548-4720-b678-0ff5a1a7dc06",
   "metadata": {},
   "outputs": [
    {
     "data": {
      "text/plain": [
       "array([[1, 2, 3, 4, 5, 6, 7, 8]])"
      ]
     },
     "execution_count": 19,
     "metadata": {},
     "output_type": "execute_result"
    }
   ],
   "source": [
    "np.arange(1,9).reshape(1,8,order='A')"
   ]
  },
  {
   "cell_type": "code",
   "execution_count": 20,
   "id": "99509a59-89d8-4a88-8c82-71027c5bde30",
   "metadata": {},
   "outputs": [
    {
     "data": {
      "text/plain": [
       "array([[1, 2],\n",
       "       [3, 4],\n",
       "       [5, 6],\n",
       "       [7, 8]])"
      ]
     },
     "execution_count": 20,
     "metadata": {},
     "output_type": "execute_result"
    }
   ],
   "source": [
    "np.arange(1,9).reshape(4,2,order='A')"
   ]
  },
  {
   "cell_type": "markdown",
   "id": "ce3b6244-f1bc-4ee6-b54c-86cafc1491a8",
   "metadata": {},
   "source": [
    "ones and zeros"
   ]
  },
  {
   "cell_type": "code",
   "execution_count": 21,
   "id": "cbe82cbc-c81e-4e74-b6b5-1e1ae3fe634c",
   "metadata": {},
   "outputs": [
    {
     "data": {
      "text/plain": [
       "array([[1., 1., 1., 1.],\n",
       "       [1., 1., 1., 1.],\n",
       "       [1., 1., 1., 1.]])"
      ]
     },
     "execution_count": 21,
     "metadata": {},
     "output_type": "execute_result"
    }
   ],
   "source": [
    "np.ones((3,4))"
   ]
  },
  {
   "cell_type": "code",
   "execution_count": 22,
   "id": "9903d386-110e-41f1-9035-ec7091f32c61",
   "metadata": {},
   "outputs": [
    {
     "data": {
      "text/plain": [
       "array([[1, 1, 1, 1],\n",
       "       [1, 1, 1, 1],\n",
       "       [1, 1, 1, 1]])"
      ]
     },
     "execution_count": 22,
     "metadata": {},
     "output_type": "execute_result"
    }
   ],
   "source": [
    "np.ones((3,4),dtype=int)"
   ]
  },
  {
   "cell_type": "code",
   "execution_count": 23,
   "id": "3092aad5-bfde-4132-9283-5f6a9bd4f837",
   "metadata": {},
   "outputs": [
    {
     "data": {
      "text/plain": [
       "array([[0., 0., 0., 0.],\n",
       "       [0., 0., 0., 0.],\n",
       "       [0., 0., 0., 0.]])"
      ]
     },
     "execution_count": 23,
     "metadata": {},
     "output_type": "execute_result"
    }
   ],
   "source": [
    "np.zeros((3,4))"
   ]
  },
  {
   "cell_type": "code",
   "execution_count": 24,
   "id": "671dcf48-d939-4de7-966f-4b729bc7d2e2",
   "metadata": {},
   "outputs": [
    {
     "data": {
      "text/plain": [
       "array([[False, False, False, False],\n",
       "       [False, False, False, False],\n",
       "       [False, False, False, False]])"
      ]
     },
     "execution_count": 24,
     "metadata": {},
     "output_type": "execute_result"
    }
   ],
   "source": [
    "np.zeros((3,4),dtype=bool)"
   ]
  },
  {
   "cell_type": "code",
   "execution_count": 25,
   "id": "fa2476bb-5abd-4abf-9459-998b0381bed7",
   "metadata": {},
   "outputs": [
    {
     "data": {
      "text/plain": [
       "array([[0.+0.j, 0.+0.j, 0.+0.j, 0.+0.j],\n",
       "       [0.+0.j, 0.+0.j, 0.+0.j, 0.+0.j],\n",
       "       [0.+0.j, 0.+0.j, 0.+0.j, 0.+0.j]])"
      ]
     },
     "execution_count": 25,
     "metadata": {},
     "output_type": "execute_result"
    }
   ],
   "source": [
    "np.zeros((3,4),dtype=complex)"
   ]
  },
  {
   "cell_type": "code",
   "execution_count": 26,
   "id": "7ec60dfa-9f24-4fe3-985b-b2d45f74675a",
   "metadata": {},
   "outputs": [
    {
     "data": {
      "text/plain": [
       "array([[0.37316299, 0.72341503, 0.9863882 , 0.85208209, 0.10671507,\n",
       "        0.63321301, 0.4615447 , 0.92055479],\n",
       "       [0.77017308, 0.39080094, 0.07076801, 0.18681068, 0.85134342,\n",
       "        0.3870425 , 0.20121116, 0.00476523],\n",
       "       [0.97570685, 0.74867334, 0.54410896, 0.10243703, 0.16342454,\n",
       "        0.75907584, 0.68296828, 0.86401632]])"
      ]
     },
     "execution_count": 26,
     "metadata": {},
     "output_type": "execute_result"
    }
   ],
   "source": [
    "np.random.random((3,8))"
   ]
  },
  {
   "cell_type": "code",
   "execution_count": 27,
   "id": "a9f1aa9e-5aad-4f0d-b212-1f15151f3384",
   "metadata": {},
   "outputs": [
    {
     "data": {
      "text/plain": [
       "array([[0.81472781, 0.07326879, 0.86303726, 0.81973562, 0.35810608,\n",
       "        0.09878222, 0.21997543, 0.87604595],\n",
       "       [0.0109844 , 0.3232657 , 0.68739999, 0.45563896, 0.79167555,\n",
       "        0.48094766, 0.36110208, 0.00147575],\n",
       "       [0.02107619, 0.19313245, 0.40499583, 0.34942856, 0.90572784,\n",
       "        0.71427624, 0.5651796 , 0.81609902]])"
      ]
     },
     "execution_count": 27,
     "metadata": {},
     "output_type": "execute_result"
    }
   ],
   "source": [
    "np.random.rand(3,8)"
   ]
  },
  {
   "cell_type": "markdown",
   "id": "30a00763-1d8e-4817-8b92-2128ac4e4832",
   "metadata": {},
   "source": [
    "linespace"
   ]
  },
  {
   "cell_type": "raw",
   "id": "3549d0c4-b532-4c2e-b733-47bad1c6d93b",
   "metadata": {},
   "source": [
    "It is also calledas Linearly space ,Linearly seprable ,in a given range at equal diastance  it creats ponints "
   ]
  },
  {
   "cell_type": "code",
   "execution_count": 28,
   "id": "272db823-557d-44d8-a2f9-19497182947c",
   "metadata": {},
   "outputs": [
    {
     "data": {
      "text/plain": [
       "array([-2.        ,  3.77777778,  9.55555556, 15.33333333, 21.11111111,\n",
       "       26.88888889, 32.66666667, 38.44444444, 44.22222222, 50.        ])"
      ]
     },
     "execution_count": 28,
     "metadata": {},
     "output_type": "execute_result"
    }
   ],
   "source": [
    "np.linspace(-2,50,10)"
   ]
  },
  {
   "cell_type": "code",
   "execution_count": 29,
   "id": "f8ed03b9-8dd4-4324-b4ce-21ab7b3891b2",
   "metadata": {},
   "outputs": [
    {
     "data": {
      "text/plain": [
       "array([ 2.        ,  2.18181818,  2.36363636,  2.54545455,  2.72727273,\n",
       "        2.90909091,  3.09090909,  3.27272727,  3.45454545,  3.63636364,\n",
       "        3.81818182,  4.        ,  4.18181818,  4.36363636,  4.54545455,\n",
       "        4.72727273,  4.90909091,  5.09090909,  5.27272727,  5.45454545,\n",
       "        5.63636364,  5.81818182,  6.        ,  6.18181818,  6.36363636,\n",
       "        6.54545455,  6.72727273,  6.90909091,  7.09090909,  7.27272727,\n",
       "        7.45454545,  7.63636364,  7.81818182,  8.        ,  8.18181818,\n",
       "        8.36363636,  8.54545455,  8.72727273,  8.90909091,  9.09090909,\n",
       "        9.27272727,  9.45454545,  9.63636364,  9.81818182, 10.        ,\n",
       "       10.18181818, 10.36363636, 10.54545455, 10.72727273, 10.90909091,\n",
       "       11.09090909, 11.27272727, 11.45454545, 11.63636364, 11.81818182,\n",
       "       12.        , 12.18181818, 12.36363636, 12.54545455, 12.72727273,\n",
       "       12.90909091, 13.09090909, 13.27272727, 13.45454545, 13.63636364,\n",
       "       13.81818182, 14.        , 14.18181818, 14.36363636, 14.54545455,\n",
       "       14.72727273, 14.90909091, 15.09090909, 15.27272727, 15.45454545,\n",
       "       15.63636364, 15.81818182, 16.        , 16.18181818, 16.36363636,\n",
       "       16.54545455, 16.72727273, 16.90909091, 17.09090909, 17.27272727,\n",
       "       17.45454545, 17.63636364, 17.81818182, 18.        , 18.18181818,\n",
       "       18.36363636, 18.54545455, 18.72727273, 18.90909091, 19.09090909,\n",
       "       19.27272727, 19.45454545, 19.63636364, 19.81818182, 20.        ])"
      ]
     },
     "execution_count": 29,
     "metadata": {},
     "output_type": "execute_result"
    }
   ],
   "source": [
    "np.linspace(2,20,100)"
   ]
  },
  {
   "cell_type": "markdown",
   "id": "4b55c012-446b-4b8b-910c-73ab63e20948",
   "metadata": {},
   "source": [
    "identity "
   ]
  },
  {
   "cell_type": "raw",
   "id": "bf1c26e6-f147-421c-898e-df3cf5ae3164",
   "metadata": {},
   "source": [
    "It ceates identity matrix that is diagonal items  will be ones and evrything will be zeros "
   ]
  },
  {
   "cell_type": "code",
   "execution_count": 30,
   "id": "2d4b30fc-a4d6-4515-8b18-cabda30e88d9",
   "metadata": {},
   "outputs": [
    {
     "data": {
      "text/plain": [
       "array([[1., 0., 0.],\n",
       "       [0., 1., 0.],\n",
       "       [0., 0., 1.]])"
      ]
     },
     "execution_count": 30,
     "metadata": {},
     "output_type": "execute_result"
    }
   ],
   "source": [
    "np.identity(3)"
   ]
  },
  {
   "cell_type": "code",
   "execution_count": 31,
   "id": "a400769c-4fba-4a67-8c83-5c45229356ee",
   "metadata": {},
   "outputs": [
    {
     "data": {
      "text/plain": [
       "array([[1., 0., 0., 0., 0., 0., 0.],\n",
       "       [0., 1., 0., 0., 0., 0., 0.],\n",
       "       [0., 0., 1., 0., 0., 0., 0.],\n",
       "       [0., 0., 0., 1., 0., 0., 0.],\n",
       "       [0., 0., 0., 0., 1., 0., 0.],\n",
       "       [0., 0., 0., 0., 0., 1., 0.],\n",
       "       [0., 0., 0., 0., 0., 0., 1.]])"
      ]
     },
     "execution_count": 31,
     "metadata": {},
     "output_type": "execute_result"
    }
   ],
   "source": [
    "np.identity(7)"
   ]
  },
  {
   "cell_type": "code",
   "execution_count": 32,
   "id": "f0b07007-bb19-44c6-a408-d7001bf4b09c",
   "metadata": {},
   "outputs": [
    {
     "data": {
      "text/plain": [
       "array([[1., 0., 0., 0., 0., 0., 0., 0., 0., 0.],\n",
       "       [0., 1., 0., 0., 0., 0., 0., 0., 0., 0.],\n",
       "       [0., 0., 1., 0., 0., 0., 0., 0., 0., 0.],\n",
       "       [0., 0., 0., 1., 0., 0., 0., 0., 0., 0.],\n",
       "       [0., 0., 0., 0., 1., 0., 0., 0., 0., 0.],\n",
       "       [0., 0., 0., 0., 0., 1., 0., 0., 0., 0.],\n",
       "       [0., 0., 0., 0., 0., 0., 1., 0., 0., 0.],\n",
       "       [0., 0., 0., 0., 0., 0., 0., 1., 0., 0.],\n",
       "       [0., 0., 0., 0., 0., 0., 0., 0., 1., 0.],\n",
       "       [0., 0., 0., 0., 0., 0., 0., 0., 0., 1.]])"
      ]
     },
     "execution_count": 32,
     "metadata": {},
     "output_type": "execute_result"
    }
   ],
   "source": [
    "np.identity(10)"
   ]
  },
  {
   "cell_type": "markdown",
   "id": "ef73bb16-a18e-4847-b629-29a40ee25762",
   "metadata": {},
   "source": [
    "Array Attributes"
   ]
  },
  {
   "cell_type": "code",
   "execution_count": 33,
   "id": "83f9f962-eac2-4aa8-8b45-8505d42b4ac9",
   "metadata": {},
   "outputs": [
    {
     "data": {
      "text/plain": [
       "array([0, 1, 2, 3, 4, 5, 6, 7, 8, 9])"
      ]
     },
     "execution_count": 33,
     "metadata": {},
     "output_type": "execute_result"
    }
   ],
   "source": [
    "a1=np.arange(10)\n",
    "a1"
   ]
  },
  {
   "cell_type": "code",
   "execution_count": 34,
   "id": "65638904-117d-4274-9cbc-25540be2b141",
   "metadata": {},
   "outputs": [
    {
     "data": {
      "text/plain": [
       "array([[ 0.,  1.,  2.,  3.],\n",
       "       [ 4.,  5.,  6.,  7.],\n",
       "       [ 8.,  9., 10., 11.]])"
      ]
     },
     "execution_count": 34,
     "metadata": {},
     "output_type": "execute_result"
    }
   ],
   "source": [
    "a2=np.arange(12, dtype=float).reshape(3,4)\n",
    "a2"
   ]
  },
  {
   "cell_type": "code",
   "execution_count": 35,
   "id": "1bc68161-1177-43f4-b962-14189b4bd767",
   "metadata": {},
   "outputs": [
    {
     "data": {
      "text/plain": [
       "array([[[0, 1],\n",
       "        [2, 3]],\n",
       "\n",
       "       [[4, 5],\n",
       "        [6, 7]]])"
      ]
     },
     "execution_count": 35,
     "metadata": {},
     "output_type": "execute_result"
    }
   ],
   "source": [
    "a3=np.arange(8).reshape(2,2,2)\n",
    "a3"
   ]
  },
  {
   "cell_type": "markdown",
   "id": "4e65445f-ab12-4c19-9a26-b4f2ee6b7ed6",
   "metadata": {},
   "source": [
    "ndim"
   ]
  },
  {
   "cell_type": "raw",
   "id": "9d0851d0-cff7-44dd-b56b-dfe87e120f07",
   "metadata": {},
   "source": [
    "Used to find out given arrays number of dimensions"
   ]
  },
  {
   "cell_type": "code",
   "execution_count": 36,
   "id": "6e2bd365-4bd7-4de8-b43c-871aceae264d",
   "metadata": {},
   "outputs": [
    {
     "data": {
      "text/plain": [
       "1"
      ]
     },
     "execution_count": 36,
     "metadata": {},
     "output_type": "execute_result"
    }
   ],
   "source": [
    "a1.ndim"
   ]
  },
  {
   "cell_type": "code",
   "execution_count": 37,
   "id": "5cccd416-0831-465e-83c7-6e600018292d",
   "metadata": {},
   "outputs": [
    {
     "data": {
      "text/plain": [
       "2"
      ]
     },
     "execution_count": 37,
     "metadata": {},
     "output_type": "execute_result"
    }
   ],
   "source": [
    "a2.ndim"
   ]
  },
  {
   "cell_type": "code",
   "execution_count": 38,
   "id": "f63a145b-d49b-4b9e-b6a1-f94e7816dc5c",
   "metadata": {},
   "outputs": [
    {
     "data": {
      "text/plain": [
       "3"
      ]
     },
     "execution_count": 38,
     "metadata": {},
     "output_type": "execute_result"
    }
   ],
   "source": [
    "a3.ndim"
   ]
  },
  {
   "cell_type": "markdown",
   "id": "27c47aa5-724e-4a2c-9e31-52e37c7236fa",
   "metadata": {},
   "source": [
    "shape"
   ]
  },
  {
   "cell_type": "raw",
   "id": "df575a62-e1b5-4059-813c-d0ab4333c0b8",
   "metadata": {},
   "source": [
    "Gives each item consist of number of rows and number of columns"
   ]
  },
  {
   "cell_type": "code",
   "execution_count": 39,
   "id": "1a312869-5622-4733-94e3-5665f7c67541",
   "metadata": {},
   "outputs": [
    {
     "data": {
      "text/plain": [
       "(10,)"
      ]
     },
     "execution_count": 39,
     "metadata": {},
     "output_type": "execute_result"
    }
   ],
   "source": [
    "a1.shape"
   ]
  },
  {
   "cell_type": "code",
   "execution_count": 40,
   "id": "4a4bf1d3-ad84-4c00-9dc7-d00f0a043b6c",
   "metadata": {},
   "outputs": [
    {
     "data": {
      "text/plain": [
       "(3, 4)"
      ]
     },
     "execution_count": 40,
     "metadata": {},
     "output_type": "execute_result"
    }
   ],
   "source": [
    "a2.shape"
   ]
  },
  {
   "cell_type": "code",
   "execution_count": 41,
   "id": "0d99294a-3fa1-4da7-b4f7-de94e8ee7b61",
   "metadata": {},
   "outputs": [
    {
     "data": {
      "text/plain": [
       "(2, 2, 2)"
      ]
     },
     "execution_count": 41,
     "metadata": {},
     "output_type": "execute_result"
    }
   ],
   "source": [
    "a3.shape"
   ]
  },
  {
   "cell_type": "markdown",
   "id": "5b34baa4-c356-4408-a3ac-40dd71c37d03",
   "metadata": {},
   "source": [
    "size"
   ]
  },
  {
   "cell_type": "raw",
   "id": "ad58f7ba-079f-4822-8601-98d8aa437b1b",
   "metadata": {},
   "source": [
    "It give number of items"
   ]
  },
  {
   "cell_type": "code",
   "execution_count": 42,
   "id": "52c394b3-d85b-4ddb-9468-f0fb6132e5f0",
   "metadata": {},
   "outputs": [
    {
     "data": {
      "text/plain": [
       "array([[[0, 1],\n",
       "        [2, 3]],\n",
       "\n",
       "       [[4, 5],\n",
       "        [6, 7]]])"
      ]
     },
     "execution_count": 42,
     "metadata": {},
     "output_type": "execute_result"
    }
   ],
   "source": [
    "a3"
   ]
  },
  {
   "cell_type": "code",
   "execution_count": 43,
   "id": "ad1bf818-ff13-403e-aef0-66a2207276b5",
   "metadata": {},
   "outputs": [
    {
     "data": {
      "text/plain": [
       "8"
      ]
     },
     "execution_count": 43,
     "metadata": {},
     "output_type": "execute_result"
    }
   ],
   "source": [
    "a3.size"
   ]
  },
  {
   "cell_type": "code",
   "execution_count": 44,
   "id": "d4e976d1-0c50-4fee-9bdb-62fa09a27c13",
   "metadata": {},
   "outputs": [
    {
     "data": {
      "text/plain": [
       "12"
      ]
     },
     "execution_count": 44,
     "metadata": {},
     "output_type": "execute_result"
    }
   ],
   "source": [
    "a2.size"
   ]
  },
  {
   "cell_type": "code",
   "execution_count": 45,
   "id": "f581b9bb-8f25-43d3-a561-ad98f71e4375",
   "metadata": {},
   "outputs": [
    {
     "data": {
      "text/plain": [
       "array([0, 1, 2, 3, 4, 5, 6, 7, 8, 9])"
      ]
     },
     "execution_count": 45,
     "metadata": {},
     "output_type": "execute_result"
    }
   ],
   "source": [
    "a1"
   ]
  },
  {
   "cell_type": "code",
   "execution_count": 46,
   "id": "a7d2cae7-328f-4733-889d-4c8dfaf822df",
   "metadata": {},
   "outputs": [
    {
     "data": {
      "text/plain": [
       "10"
      ]
     },
     "execution_count": 46,
     "metadata": {},
     "output_type": "execute_result"
    }
   ],
   "source": [
    "a1.size"
   ]
  },
  {
   "cell_type": "markdown",
   "id": "6ec0ed9a-8535-47d1-8665-af427eea8443",
   "metadata": {},
   "source": [
    "item size"
   ]
  },
  {
   "cell_type": "raw",
   "id": "adc96c41-c67e-4c9c-9ff2-ec31b69a59c8",
   "metadata": {},
   "source": [
    "Memory Occupied by the item"
   ]
  },
  {
   "cell_type": "code",
   "execution_count": 47,
   "id": "f4cf3892-9ba2-4f36-88bd-b701db78cec4",
   "metadata": {},
   "outputs": [
    {
     "data": {
      "text/plain": [
       "array([0, 1, 2, 3, 4, 5, 6, 7, 8, 9])"
      ]
     },
     "execution_count": 47,
     "metadata": {},
     "output_type": "execute_result"
    }
   ],
   "source": [
    "a1"
   ]
  },
  {
   "cell_type": "code",
   "execution_count": 48,
   "id": "9a10d6e9-e044-4cd0-9d4f-7e720ca93aa4",
   "metadata": {},
   "outputs": [
    {
     "data": {
      "text/plain": [
       "4"
      ]
     },
     "execution_count": 48,
     "metadata": {},
     "output_type": "execute_result"
    }
   ],
   "source": [
    "a1.itemsize # bytes"
   ]
  },
  {
   "cell_type": "code",
   "execution_count": 49,
   "id": "2be0b4fe-24c6-4cd7-93b2-adf6e052a1df",
   "metadata": {},
   "outputs": [
    {
     "data": {
      "text/plain": [
       "8"
      ]
     },
     "execution_count": 49,
     "metadata": {},
     "output_type": "execute_result"
    }
   ],
   "source": [
    "a2.itemsize # integer 64 gives = 8 bytes"
   ]
  },
  {
   "cell_type": "code",
   "execution_count": 50,
   "id": "fd4b2d14-94ca-47cc-814b-f9bd462a3464",
   "metadata": {},
   "outputs": [
    {
     "data": {
      "text/plain": [
       "4"
      ]
     },
     "execution_count": 50,
     "metadata": {},
     "output_type": "execute_result"
    }
   ],
   "source": [
    "a3.itemsize   # integer 32 gives = 4 bytes"
   ]
  },
  {
   "cell_type": "markdown",
   "id": "64a176a0-9870-4bcc-8998-2f41b747bc66",
   "metadata": {},
   "source": [
    "dtype"
   ]
  },
  {
   "cell_type": "raw",
   "id": "44b96c48-10c4-4304-9efa-a5a04f1ee176",
   "metadata": {},
   "source": [
    "Gives the data type od an item"
   ]
  },
  {
   "cell_type": "markdown",
   "id": "3df98478-d993-4f28-9d8a-fea012328174",
   "metadata": {},
   "source": [
    "print(a1.dtype)\n",
    "print(a2.dtype)\n",
    "print(a3.dtype)"
   ]
  },
  {
   "cell_type": "markdown",
   "id": "1ef4116d-83ea-4059-b168-734cde150dcd",
   "metadata": {},
   "source": [
    " Changing Data Type\n"
   ]
  },
  {
   "cell_type": "code",
   "execution_count": 51,
   "id": "47aee5d0-5846-46a1-9093-dd5249e9efae",
   "metadata": {},
   "outputs": [
    {
     "data": {
      "text/plain": [
       "array([33. , 22. ,  2.5])"
      ]
     },
     "execution_count": 51,
     "metadata": {},
     "output_type": "execute_result"
    }
   ],
   "source": [
    "#astype\n",
    "x = np.array([33, 22, 2.5])\n",
    "x"
   ]
  },
  {
   "cell_type": "code",
   "execution_count": 52,
   "id": "079941a7-268a-4b9a-9acd-8c111d4594c8",
   "metadata": {},
   "outputs": [
    {
     "data": {
      "text/plain": [
       "array([33, 22,  2])"
      ]
     },
     "execution_count": 52,
     "metadata": {},
     "output_type": "execute_result"
    }
   ],
   "source": [
    "x = np.array([33, 22, 2.5] ,dtype=int)\n",
    "x"
   ]
  },
  {
   "cell_type": "code",
   "execution_count": 53,
   "id": "3a571c55-153b-4ab0-a669-6c6438956cf2",
   "metadata": {},
   "outputs": [
    {
     "data": {
      "text/plain": [
       "array([33, 22,  2])"
      ]
     },
     "execution_count": 53,
     "metadata": {},
     "output_type": "execute_result"
    }
   ],
   "source": [
    "x.astype(int)\n",
    "x"
   ]
  },
  {
   "cell_type": "markdown",
   "id": "4d6a540d-ddba-48c9-887f-d0a32f427675",
   "metadata": {},
   "source": [
    " Array operations\n"
   ]
  },
  {
   "cell_type": "code",
   "execution_count": 54,
   "id": "fb4589b9-9ee5-41d4-9717-f58432433524",
   "metadata": {},
   "outputs": [],
   "source": [
    "z1=np.arange(12).reshape(3,4)\n",
    "z2=np.arange(12,24).reshape(3,4)"
   ]
  },
  {
   "cell_type": "code",
   "execution_count": 55,
   "id": "2f3c3276-fd6c-433b-9acc-6b04113de1a9",
   "metadata": {},
   "outputs": [
    {
     "data": {
      "text/plain": [
       "array([[ 0,  1,  2,  3],\n",
       "       [ 4,  5,  6,  7],\n",
       "       [ 8,  9, 10, 11]])"
      ]
     },
     "execution_count": 55,
     "metadata": {},
     "output_type": "execute_result"
    }
   ],
   "source": [
    "z1"
   ]
  },
  {
   "cell_type": "code",
   "execution_count": 56,
   "id": "5d0f0050-0c77-4230-a9c4-9cb79207eaf7",
   "metadata": {},
   "outputs": [
    {
     "data": {
      "text/plain": [
       "array([[12, 13, 14, 15],\n",
       "       [16, 17, 18, 19],\n",
       "       [20, 21, 22, 23]])"
      ]
     },
     "execution_count": 56,
     "metadata": {},
     "output_type": "execute_result"
    }
   ],
   "source": [
    "z2"
   ]
  },
  {
   "cell_type": "markdown",
   "id": "87a1a0ea-16d9-49c3-b134-08548cf2d751",
   "metadata": {},
   "source": [
    "Scalar Operation"
   ]
  },
  {
   "cell_type": "raw",
   "id": "6088b592-43bf-485d-9576-ffc4c4b55fbd",
   "metadata": {},
   "source": [
    "Scalar operations on Numpy arrays include performing addition or subtraction, \n",
    "or multiplication  on each element of a Numpy array.\n"
   ]
  },
  {
   "cell_type": "code",
   "execution_count": 57,
   "id": "bffc0f54-e408-46a9-989d-3b8b71b78a1b",
   "metadata": {},
   "outputs": [
    {
     "data": {
      "text/plain": [
       "array([[ 2,  3,  4,  5],\n",
       "       [ 6,  7,  8,  9],\n",
       "       [10, 11, 12, 13]])"
      ]
     },
     "execution_count": 57,
     "metadata": {},
     "output_type": "execute_result"
    }
   ],
   "source": [
    "#Arithmetic\n",
    "z1+2"
   ]
  },
  {
   "cell_type": "code",
   "execution_count": 58,
   "id": "777c84e0-8908-4a73-9df3-bfffdb8d3d74",
   "metadata": {},
   "outputs": [
    {
     "data": {
      "text/plain": [
       "array([[-2, -1,  0,  1],\n",
       "       [ 2,  3,  4,  5],\n",
       "       [ 6,  7,  8,  9]])"
      ]
     },
     "execution_count": 58,
     "metadata": {},
     "output_type": "execute_result"
    }
   ],
   "source": [
    "#Subsraction\n",
    "z1-2"
   ]
  },
  {
   "cell_type": "code",
   "execution_count": 59,
   "id": "a4b23af6-9f91-4e90-bbea-49c6ae8c2e8d",
   "metadata": {},
   "outputs": [
    {
     "data": {
      "text/plain": [
       "array([[ 0,  2,  4,  6],\n",
       "       [ 8, 10, 12, 14],\n",
       "       [16, 18, 20, 22]])"
      ]
     },
     "execution_count": 59,
     "metadata": {},
     "output_type": "execute_result"
    }
   ],
   "source": [
    "#Multipication\n",
    "z1*2"
   ]
  },
  {
   "cell_type": "code",
   "execution_count": 60,
   "id": "3e53c4d8-82a5-4893-9f42-1817819a7081",
   "metadata": {},
   "outputs": [
    {
     "data": {
      "text/plain": [
       "array([[  0,   1,   4,   9],\n",
       "       [ 16,  25,  36,  49],\n",
       "       [ 64,  81, 100, 121]])"
      ]
     },
     "execution_count": 60,
     "metadata": {},
     "output_type": "execute_result"
    }
   ],
   "source": [
    "#Power\n",
    "z1**2"
   ]
  },
  {
   "cell_type": "code",
   "execution_count": 61,
   "id": "9985adfc-790e-4291-8e85-89c83862babf",
   "metadata": {},
   "outputs": [
    {
     "data": {
      "text/plain": [
       "array([[0, 1, 0, 1],\n",
       "       [0, 1, 0, 1],\n",
       "       [0, 1, 0, 1]], dtype=int32)"
      ]
     },
     "execution_count": 61,
     "metadata": {},
     "output_type": "execute_result"
    }
   ],
   "source": [
    "#Modulo\n",
    "z1%2"
   ]
  },
  {
   "cell_type": "markdown",
   "id": "ca0dc207-0301-4477-8d76-9d90197f941e",
   "metadata": {},
   "source": [
    "Relational Operators"
   ]
  },
  {
   "cell_type": "raw",
   "id": "a6a141d9-5948-4c2a-973f-e9903d6c89d3",
   "metadata": {},
   "source": [
    " The relational operators are also known as comparison operators, their main function is to\n",
    " return either a true or false based on the value of operands."
   ]
  },
  {
   "cell_type": "code",
   "execution_count": 62,
   "id": "10665072-8b9e-4ad5-a5f5-b0486d66738b",
   "metadata": {},
   "outputs": [
    {
     "data": {
      "text/plain": [
       "array([[12, 13, 14, 15],\n",
       "       [16, 17, 18, 19],\n",
       "       [20, 21, 22, 23]])"
      ]
     },
     "execution_count": 62,
     "metadata": {},
     "output_type": "execute_result"
    }
   ],
   "source": [
    "z2"
   ]
  },
  {
   "cell_type": "code",
   "execution_count": 63,
   "id": "5b453433-3b17-4340-8bad-539686e16813",
   "metadata": {},
   "outputs": [
    {
     "data": {
      "text/plain": [
       "array([[ True,  True,  True,  True],\n",
       "       [ True,  True,  True,  True],\n",
       "       [ True,  True,  True,  True]])"
      ]
     },
     "execution_count": 63,
     "metadata": {},
     "output_type": "execute_result"
    }
   ],
   "source": [
    "z2>2"
   ]
  },
  {
   "cell_type": "code",
   "execution_count": 64,
   "id": "3d37d229-546d-4752-ac4b-5e2314fed03c",
   "metadata": {},
   "outputs": [
    {
     "data": {
      "text/plain": [
       "array([[False, False, False, False],\n",
       "       [False, False, False, False],\n",
       "       [False, False, False, False]])"
      ]
     },
     "execution_count": 64,
     "metadata": {},
     "output_type": "execute_result"
    }
   ],
   "source": [
    "z2<2"
   ]
  },
  {
   "cell_type": "code",
   "execution_count": 65,
   "id": "a0f19f6d-4495-4ce4-b5f9-f40b150c4621",
   "metadata": {},
   "outputs": [
    {
     "data": {
      "text/plain": [
       "array([[False, False, False, False],\n",
       "       [ True,  True,  True,  True],\n",
       "       [ True,  True,  True,  True]])"
      ]
     },
     "execution_count": 65,
     "metadata": {},
     "output_type": "execute_result"
    }
   ],
   "source": [
    "z2>15"
   ]
  },
  {
   "cell_type": "markdown",
   "id": "5589ae86-3f28-400b-8093-65250eb976d5",
   "metadata": {},
   "source": [
    " Vector Operation"
   ]
  },
  {
   "cell_type": "raw",
   "id": "decd6fc5-c0cf-494c-a22c-76664c9a0085",
   "metadata": {},
   "source": [
    " We can apply on both numpy array"
   ]
  },
  {
   "cell_type": "code",
   "execution_count": 66,
   "id": "1640bf32-3876-41fa-b9cc-1bfd0da952fe",
   "metadata": {},
   "outputs": [
    {
     "data": {
      "text/plain": [
       "array([[ 0,  1,  2,  3],\n",
       "       [ 4,  5,  6,  7],\n",
       "       [ 8,  9, 10, 11]])"
      ]
     },
     "execution_count": 66,
     "metadata": {},
     "output_type": "execute_result"
    }
   ],
   "source": [
    "z1"
   ]
  },
  {
   "cell_type": "code",
   "execution_count": 67,
   "id": "dceaf40b-5b35-4ede-847e-54918e1f67d9",
   "metadata": {},
   "outputs": [
    {
     "data": {
      "text/plain": [
       "array([[12, 13, 14, 15],\n",
       "       [16, 17, 18, 19],\n",
       "       [20, 21, 22, 23]])"
      ]
     },
     "execution_count": 67,
     "metadata": {},
     "output_type": "execute_result"
    }
   ],
   "source": [
    "z2"
   ]
  },
  {
   "cell_type": "code",
   "execution_count": 68,
   "id": "991b5a33-26e5-4425-b20b-a92c5e4dd5ca",
   "metadata": {},
   "outputs": [
    {
     "data": {
      "text/plain": [
       "array([[12, 14, 16, 18],\n",
       "       [20, 22, 24, 26],\n",
       "       [28, 30, 32, 34]])"
      ]
     },
     "execution_count": 68,
     "metadata": {},
     "output_type": "execute_result"
    }
   ],
   "source": [
    "#Arithmetic\n",
    "z1+z2 # both numpy array Shape is same , we can add item wise"
   ]
  },
  {
   "cell_type": "code",
   "execution_count": 69,
   "id": "a6b3a69d-a277-45ac-a023-c0fd062b7b88",
   "metadata": {},
   "outputs": [
    {
     "data": {
      "text/plain": [
       "array([[-12, -12, -12, -12],\n",
       "       [-12, -12, -12, -12],\n",
       "       [-12, -12, -12, -12]])"
      ]
     },
     "execution_count": 69,
     "metadata": {},
     "output_type": "execute_result"
    }
   ],
   "source": [
    "#Substraction\n",
    "z1-z2"
   ]
  },
  {
   "cell_type": "code",
   "execution_count": 70,
   "id": "568b9d65-54b8-4776-a13a-5d4d9adbc1f4",
   "metadata": {},
   "outputs": [
    {
     "data": {
      "text/plain": [
       "array([[  0,  13,  28,  45],\n",
       "       [ 64,  85, 108, 133],\n",
       "       [160, 189, 220, 253]])"
      ]
     },
     "execution_count": 70,
     "metadata": {},
     "output_type": "execute_result"
    }
   ],
   "source": [
    "#Multiplication\n",
    "z1*z2"
   ]
  },
  {
   "cell_type": "code",
   "execution_count": 71,
   "id": "5cba007d-3e3e-4fed-9126-0e71df4a64a8",
   "metadata": {},
   "outputs": [
    {
     "data": {
      "text/plain": [
       "array([[0.        , 0.07692308, 0.14285714, 0.2       ],\n",
       "       [0.25      , 0.29411765, 0.33333333, 0.36842105],\n",
       "       [0.4       , 0.42857143, 0.45454545, 0.47826087]])"
      ]
     },
     "execution_count": 71,
     "metadata": {},
     "output_type": "execute_result"
    }
   ],
   "source": [
    "#division\n",
    "z1/z2"
   ]
  },
  {
   "cell_type": "markdown",
   "id": "e166a4d9-8391-4d77-ac27-908dbee21798",
   "metadata": {},
   "source": [
    " Array Functions"
   ]
  },
  {
   "cell_type": "code",
   "execution_count": 72,
   "id": "355e1681-0a8f-45f4-9977-e394b313de83",
   "metadata": {},
   "outputs": [
    {
     "data": {
      "text/plain": [
       "array([[0.67206327, 0.48201158, 0.82628855],\n",
       "       [0.28259046, 0.59952928, 0.13541228],\n",
       "       [0.49859815, 0.66892221, 0.18923959]])"
      ]
     },
     "execution_count": 72,
     "metadata": {},
     "output_type": "execute_result"
    }
   ],
   "source": [
    "k1=np.random.random((3,3))\n",
    "k1"
   ]
  },
  {
   "cell_type": "code",
   "execution_count": 73,
   "id": "caf94217-3207-43cf-8559-e0590c8a9039",
   "metadata": {},
   "outputs": [
    {
     "data": {
      "text/plain": [
       "array([[11., 27., 91.],\n",
       "       [64., 31., 49.],\n",
       "       [13.,  5., 38.]])"
      ]
     },
     "execution_count": 73,
     "metadata": {},
     "output_type": "execute_result"
    }
   ],
   "source": [
    "k1=np.random.random((3,3))\n",
    "k1=np.round(k1*100)\n",
    "k1"
   ]
  },
  {
   "cell_type": "code",
   "execution_count": 74,
   "id": "83d7e055-f3cf-4076-9e4e-87ab8822a6ed",
   "metadata": {},
   "outputs": [
    {
     "data": {
      "text/plain": [
       "91.0"
      ]
     },
     "execution_count": 74,
     "metadata": {},
     "output_type": "execute_result"
    }
   ],
   "source": [
    "#Max\n",
    "np.max(k1)"
   ]
  },
  {
   "cell_type": "code",
   "execution_count": 75,
   "id": "427eb5ac-f7e3-473b-b48b-10ccb6c486ec",
   "metadata": {},
   "outputs": [
    {
     "data": {
      "text/plain": [
       "5.0"
      ]
     },
     "execution_count": 75,
     "metadata": {},
     "output_type": "execute_result"
    }
   ],
   "source": [
    "#Min\n",
    "np.min(k1)"
   ]
  },
  {
   "cell_type": "code",
   "execution_count": 76,
   "id": "48d866a4-df7d-4bb2-91c4-1124cacb249f",
   "metadata": {},
   "outputs": [
    {
     "data": {
      "text/plain": [
       "329.0"
      ]
     },
     "execution_count": 76,
     "metadata": {},
     "output_type": "execute_result"
    }
   ],
   "source": [
    "#Sum\n",
    "np.sum(k1)"
   ]
  },
  {
   "cell_type": "code",
   "execution_count": 77,
   "id": "8ae3c338-73f4-4f20-a974-db73a11bfb67",
   "metadata": {},
   "outputs": [
    {
     "data": {
      "text/plain": [
       "6489818375040.0"
      ]
     },
     "execution_count": 77,
     "metadata": {},
     "output_type": "execute_result"
    }
   ],
   "source": [
    "#prod------->Multipication\n",
    "np.prod(k1)"
   ]
  },
  {
   "cell_type": "code",
   "execution_count": 78,
   "id": "e95d1e80-8dc0-40ca-98ea-e0d166250fb2",
   "metadata": {},
   "outputs": [
    {
     "data": {
      "text/plain": [
       "array([[11., 27., 91.],\n",
       "       [64., 31., 49.],\n",
       "       [13.,  5., 38.]])"
      ]
     },
     "execution_count": 78,
     "metadata": {},
     "output_type": "execute_result"
    }
   ],
   "source": [
    "k1\n",
    "# 0 = column , 1 = row------>Nnmpy\n"
   ]
  },
  {
   "cell_type": "code",
   "execution_count": 79,
   "id": "10869905-e82d-4352-a885-e0a25e5fd4da",
   "metadata": {},
   "outputs": [
    {
     "data": {
      "text/plain": [
       "array([91., 64., 38.])"
      ]
     },
     "execution_count": 79,
     "metadata": {},
     "output_type": "execute_result"
    }
   ],
   "source": [
    " # if we want maximum of every row\n",
    "np.max(k1,axis=1)"
   ]
  },
  {
   "cell_type": "code",
   "execution_count": 80,
   "id": "ce9e1b00-fa99-4f6e-aae7-dee35a93c1fc",
   "metadata": {},
   "outputs": [
    {
     "data": {
      "text/plain": [
       "array([64., 31., 91.])"
      ]
     },
     "execution_count": 80,
     "metadata": {},
     "output_type": "execute_result"
    }
   ],
   "source": [
    " # maximum of every column\n",
    " np.max(k1, axis = 0)"
   ]
  },
  {
   "cell_type": "code",
   "execution_count": 81,
   "id": "e539c7fb-7fbe-4a46-bf56-e0427b6b18a3",
   "metadata": {},
   "outputs": [
    {
     "data": {
      "text/plain": [
       "array([  9152.,   4185., 169442.])"
      ]
     },
     "execution_count": 81,
     "metadata": {},
     "output_type": "execute_result"
    }
   ],
   "source": [
    "# product of every column\n",
    "np.prod(k1, axis = 0)"
   ]
  },
  {
   "cell_type": "markdown",
   "id": "21c7ddb9-8e18-41be-9580-a68cd2aa8dab",
   "metadata": {},
   "source": [
    " Statistics related fuctions\n"
   ]
  },
  {
   "cell_type": "code",
   "execution_count": 82,
   "id": "02196eaa-234b-4ba9-8c2c-5649096f852d",
   "metadata": {},
   "outputs": [
    {
     "data": {
      "text/plain": [
       "array([[11., 27., 91.],\n",
       "       [64., 31., 49.],\n",
       "       [13.,  5., 38.]])"
      ]
     },
     "execution_count": 82,
     "metadata": {},
     "output_type": "execute_result"
    }
   ],
   "source": [
    "#mean\n",
    "k1"
   ]
  },
  {
   "cell_type": "code",
   "execution_count": 83,
   "id": "124ce9a6-4cb6-423f-abd8-81cbb2123643",
   "metadata": {},
   "outputs": [
    {
     "data": {
      "text/plain": [
       "36.55555555555556"
      ]
     },
     "execution_count": 83,
     "metadata": {},
     "output_type": "execute_result"
    }
   ],
   "source": [
    "np.mean(k1)"
   ]
  },
  {
   "cell_type": "code",
   "execution_count": 84,
   "id": "234b320a-d94e-4ae9-9fa9-2c1959185c24",
   "metadata": {},
   "outputs": [
    {
     "data": {
      "text/plain": [
       "array([29.33333333, 21.        , 59.33333333])"
      ]
     },
     "execution_count": 84,
     "metadata": {},
     "output_type": "execute_result"
    }
   ],
   "source": [
    " # mean of every column\n",
    "k1.mean(axis=0)"
   ]
  },
  {
   "cell_type": "code",
   "execution_count": 85,
   "id": "86d3737b-17b6-4ed3-a435-10609c2c848e",
   "metadata": {},
   "outputs": [
    {
     "data": {
      "text/plain": [
       "31.0"
      ]
     },
     "execution_count": 85,
     "metadata": {},
     "output_type": "execute_result"
    }
   ],
   "source": [
    "# median\n",
    "np.median(k1)"
   ]
  },
  {
   "cell_type": "code",
   "execution_count": 86,
   "id": "74ccf67f-419e-40ff-ad2a-3d151acf5a38",
   "metadata": {},
   "outputs": [
    {
     "data": {
      "text/plain": [
       "array([27., 49., 13.])"
      ]
     },
     "execution_count": 86,
     "metadata": {},
     "output_type": "execute_result"
    }
   ],
   "source": [
    "np.median(k1, axis = 1)"
   ]
  },
  {
   "cell_type": "code",
   "execution_count": 87,
   "id": "d2e84ec9-1417-4d25-969e-77153f646e2f",
   "metadata": {},
   "outputs": [
    {
     "data": {
      "text/plain": [
       "26.24716327999873"
      ]
     },
     "execution_count": 87,
     "metadata": {},
     "output_type": "execute_result"
    }
   ],
   "source": [
    " # Standard deviation\n",
    "np.std(k1)"
   ]
  },
  {
   "cell_type": "code",
   "execution_count": 88,
   "id": "4d21b912-8f94-45eb-845c-3ee924763d72",
   "metadata": {},
   "outputs": [
    {
     "data": {
      "text/plain": [
       "array([34.56395039, 13.49073756, 14.05544576])"
      ]
     },
     "execution_count": 88,
     "metadata": {},
     "output_type": "execute_result"
    }
   ],
   "source": [
    "np.std(k1, axis = 1)"
   ]
  },
  {
   "cell_type": "code",
   "execution_count": 89,
   "id": "c3f29b10-00b5-4839-84e0-13f23b05e5ab",
   "metadata": {},
   "outputs": [
    {
     "data": {
      "text/plain": [
       "688.9135802469136"
      ]
     },
     "execution_count": 89,
     "metadata": {},
     "output_type": "execute_result"
    }
   ],
   "source": [
    "# variance\n",
    "np.var(k1)"
   ]
  },
  {
   "cell_type": "code",
   "execution_count": 90,
   "id": "4401142a-1f71-4a1a-970b-4a3f186257ce",
   "metadata": {},
   "outputs": [
    {
     "data": {
      "text/plain": [
       "array([1194.66666667,  182.        ,  197.55555556])"
      ]
     },
     "execution_count": 90,
     "metadata": {},
     "output_type": "execute_result"
    }
   ],
   "source": [
    "np.var(k1, axis = 1)"
   ]
  },
  {
   "cell_type": "markdown",
   "id": "c3b9ec28-b974-434c-9392-3592c88dc09a",
   "metadata": {},
   "source": [
    " Trignometry Functions\n"
   ]
  },
  {
   "cell_type": "code",
   "execution_count": 91,
   "id": "5bdbdac0-5e04-4910-b809-2edef4e8143e",
   "metadata": {},
   "outputs": [
    {
     "data": {
      "text/plain": [
       "array([[-0.99999021,  0.95637593,  0.10598751],\n",
       "       [ 0.92002604, -0.40403765, -0.95375265],\n",
       "       [ 0.42016704, -0.95892427,  0.29636858]])"
      ]
     },
     "execution_count": 91,
     "metadata": {},
     "output_type": "execute_result"
    }
   ],
   "source": [
    " np.sin(k1) # sin "
   ]
  },
  {
   "cell_type": "code",
   "execution_count": 92,
   "id": "252b0e03-118c-484e-a06c-a35e725cbd6b",
   "metadata": {},
   "outputs": [
    {
     "data": {
      "text/plain": [
       "array([[ 0.0044257 , -0.29213881, -0.99436746],\n",
       "       [ 0.39185723,  0.91474236,  0.30059254],\n",
       "       [ 0.90744678,  0.28366219,  0.95507364]])"
      ]
     },
     "execution_count": 92,
     "metadata": {},
     "output_type": "execute_result"
    }
   ],
   "source": [
    " np.cos(k1)\n"
   ]
  },
  {
   "cell_type": "code",
   "execution_count": 93,
   "id": "f10945fe-d4af-4e9b-bb03-ca3dfd914cdd",
   "metadata": {},
   "outputs": [
    {
     "data": {
      "text/plain": [
       "array([[-2.25950846e+02, -3.27370380e+00, -1.06587872e-01],\n",
       "       [ 2.34786031e+00, -4.41695568e-01, -3.17290855e+00],\n",
       "       [ 4.63021133e-01, -3.38051501e+00,  3.10309661e-01]])"
      ]
     },
     "execution_count": 93,
     "metadata": {},
     "output_type": "execute_result"
    }
   ],
   "source": [
    " np.tan(k1)\n"
   ]
  },
  {
   "cell_type": "markdown",
   "id": "144b4e95-fa64-4e78-a5c3-32856250ee2e",
   "metadata": {},
   "source": [
    " dot product\n"
   ]
  },
  {
   "cell_type": "raw",
   "id": "e676a557-f308-4a31-9ef3-3353f5d4da2c",
   "metadata": {},
   "source": [
    " The numpy module of Python provides a function to perform the dot product of two arrays.\n"
   ]
  },
  {
   "cell_type": "code",
   "execution_count": 94,
   "id": "514327db-0cf1-4ac4-ac46-d22ecab08b91",
   "metadata": {},
   "outputs": [],
   "source": [
    " s2 = np.arange(12).reshape(3,4)\n",
    " s3 = np.arange(12,24).reshape(4,3)"
   ]
  },
  {
   "cell_type": "code",
   "execution_count": 95,
   "id": "440e8ed3-ff31-4d23-8165-53ec9ed0349a",
   "metadata": {},
   "outputs": [
    {
     "data": {
      "text/plain": [
       "array([[ 0,  1,  2,  3],\n",
       "       [ 4,  5,  6,  7],\n",
       "       [ 8,  9, 10, 11]])"
      ]
     },
     "execution_count": 95,
     "metadata": {},
     "output_type": "execute_result"
    }
   ],
   "source": [
    "s2"
   ]
  },
  {
   "cell_type": "code",
   "execution_count": 96,
   "id": "1d73446a-52b6-46a7-be77-41e2bdbd14e8",
   "metadata": {},
   "outputs": [
    {
     "data": {
      "text/plain": [
       "array([[12, 13, 14],\n",
       "       [15, 16, 17],\n",
       "       [18, 19, 20],\n",
       "       [21, 22, 23]])"
      ]
     },
     "execution_count": 96,
     "metadata": {},
     "output_type": "execute_result"
    }
   ],
   "source": [
    "s3"
   ]
  },
  {
   "cell_type": "code",
   "execution_count": 97,
   "id": "fd0cee1e-c674-409b-9cef-b7cf6d037df9",
   "metadata": {},
   "outputs": [
    {
     "data": {
      "text/plain": [
       "array([[114, 120, 126],\n",
       "       [378, 400, 422],\n",
       "       [642, 680, 718]])"
      ]
     },
     "execution_count": 97,
     "metadata": {},
     "output_type": "execute_result"
    }
   ],
   "source": [
    "np.dot(s2,s3)"
   ]
  },
  {
   "cell_type": "markdown",
   "id": "180fcd6c-4e67-429f-86c8-68d022aae74d",
   "metadata": {},
   "source": [
    " Log and Exponents"
   ]
  },
  {
   "cell_type": "code",
   "execution_count": 98,
   "id": "e4524e14-5353-42e8-9bc1-de554fbbde89",
   "metadata": {},
   "outputs": [
    {
     "data": {
      "text/plain": [
       "array([[1.00000000e+00, 2.71828183e+00, 7.38905610e+00, 2.00855369e+01],\n",
       "       [5.45981500e+01, 1.48413159e+02, 4.03428793e+02, 1.09663316e+03],\n",
       "       [2.98095799e+03, 8.10308393e+03, 2.20264658e+04, 5.98741417e+04]])"
      ]
     },
     "execution_count": 98,
     "metadata": {},
     "output_type": "execute_result"
    }
   ],
   "source": [
    "np.exp(s2)\n"
   ]
  },
  {
   "cell_type": "markdown",
   "id": "adf65093-46f2-4470-9083-cedbf0dea833",
   "metadata": {},
   "source": [
    "round / floor /ceil\n"
   ]
  },
  {
   "cell_type": "raw",
   "id": "260b5259-b514-4357-9942-92f09bf6935d",
   "metadata": {},
   "source": [
    "1.Round\n",
    "The numpy.round() function rounds the elements of an array to the nearest integer or to the\n",
    " specified number of decimals"
   ]
  },
  {
   "cell_type": "code",
   "execution_count": 99,
   "id": "ecd50bf1-0653-42d9-a550-9da51b550ba6",
   "metadata": {},
   "outputs": [
    {
     "name": "stdout",
     "output_type": "stream",
     "text": [
      "[1. 3. 4. 5.]\n"
     ]
    }
   ],
   "source": [
    "# Round to the nearest integer\n",
    "arr = np.array([1.2, 2.7, 3.5, 4.9])\n",
    "rounded_arr = np.round(arr)\n",
    "print(rounded_arr) "
   ]
  },
  {
   "cell_type": "code",
   "execution_count": 100,
   "id": "5d3a0323-4942-4d23-818b-4ec793b9487d",
   "metadata": {},
   "outputs": [
    {
     "name": "stdout",
     "output_type": "stream",
     "text": [
      "[1.23 2.57 3.89]\n"
     ]
    }
   ],
   "source": [
    "# Round to two decimals\n",
    "arr = np.array([1.234, 2.567, 3.891])\n",
    "rounded_arr = np.round(arr, decimals=2)\n",
    "print(rounded_arr) "
   ]
  },
  {
   "cell_type": "raw",
   "id": "7c3871de-cc39-4f5a-bb4b-509cfc93e4af",
   "metadata": {},
   "source": [
    "2.floor\n",
    "The numpy.floor() function returns the largest integer less than or equal to each element of an\n",
    "array"
   ]
  },
  {
   "cell_type": "code",
   "execution_count": 101,
   "id": "9a36637a-45db-44b6-b613-f1869dcf876f",
   "metadata": {},
   "outputs": [
    {
     "name": "stdout",
     "output_type": "stream",
     "text": [
      "[1. 2. 3. 4.]\n"
     ]
    }
   ],
   "source": [
    "# Floor operation\n",
    "arr = np.array([1.2, 2.7, 3.5, 4.9])\n",
    "floored_arr = np.floor(arr)\n",
    "print(floored_arr)"
   ]
  },
  {
   "cell_type": "code",
   "execution_count": 102,
   "id": "9b299263-8638-44b7-95ac-8fde692d2dee",
   "metadata": {},
   "outputs": [
    {
     "data": {
      "text/plain": [
       "array([[0.48067866, 0.75407118, 0.06195147],\n",
       "       [0.12531077, 0.33866871, 0.45274937]])"
      ]
     },
     "execution_count": 102,
     "metadata": {},
     "output_type": "execute_result"
    }
   ],
   "source": [
    "np.random.random((2,3))"
   ]
  },
  {
   "cell_type": "code",
   "execution_count": 103,
   "id": "ab1682f6-f86c-47fc-a04e-2130babce34d",
   "metadata": {},
   "outputs": [
    {
     "data": {
      "text/plain": [
       "array([[34., 70., 21.],\n",
       "       [63., 41., 78.]])"
      ]
     },
     "execution_count": 103,
     "metadata": {},
     "output_type": "execute_result"
    }
   ],
   "source": [
    "np.floor(np.random.random((2,3))*100) # gives the smallest integer ex :6.8 =6"
   ]
  },
  {
   "cell_type": "raw",
   "id": "8fbfeca2-d6ad-4a8c-8a47-1f62ae219e9e",
   "metadata": {},
   "source": [
    "3.ceil\n",
    "The numpy.ceil() function returns the smallest integer greater than or equal to each element of\n",
    " an array"
   ]
  },
  {
   "cell_type": "code",
   "execution_count": 104,
   "id": "139de28a-4bbe-4b93-8d58-2cb94ec7d533",
   "metadata": {},
   "outputs": [
    {
     "name": "stdout",
     "output_type": "stream",
     "text": [
      "[2. 3. 4. 5.]\n"
     ]
    }
   ],
   "source": [
    "arr = np.array([1.2, 2.7, 3.5, 4.9])\n",
    "ceiled_arr = np.ceil(arr)\n",
    "print(ceiled_arr)"
   ]
  },
  {
   "cell_type": "code",
   "execution_count": 105,
   "id": "49d35a54-49c5-45f9-aeb2-ebfe50af8d4f",
   "metadata": {},
   "outputs": [
    {
     "data": {
      "text/plain": [
       "array([[41., 64., 11.],\n",
       "       [32., 25., 90.]])"
      ]
     },
     "execution_count": 105,
     "metadata": {},
     "output_type": "execute_result"
    }
   ],
   "source": [
    " np.ceil(np.random.random((2,3))*100) # gives highest integer ex : 7.8 = 8\n"
   ]
  },
  {
   "cell_type": "markdown",
   "id": "95df3f6f-1d4c-46a4-9e5d-de2ab2958adb",
   "metadata": {},
   "source": [
    "Indexing and slicing\n"
   ]
  }
 ],
 "metadata": {
  "kernelspec": {
   "display_name": "Python 3 (ipykernel)",
   "language": "python",
   "name": "python3"
  },
  "language_info": {
   "codemirror_mode": {
    "name": "ipython",
    "version": 3
   },
   "file_extension": ".py",
   "mimetype": "text/x-python",
   "name": "python",
   "nbconvert_exporter": "python",
   "pygments_lexer": "ipython3",
   "version": "3.12.7"
  }
 },
 "nbformat": 4,
 "nbformat_minor": 5
}
