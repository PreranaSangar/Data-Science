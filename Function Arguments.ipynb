{
 "cells": [
  {
   "cell_type": "markdown",
   "id": "bc56c67c-6a78-4b34-9b08-5c097c0b0412",
   "metadata": {},
   "source": [
    "# Function Arguments"
   ]
  },
  {
   "cell_type": "markdown",
   "id": "370bafff-e0fe-440b-baec-0e4d97d85ce8",
   "metadata": {},
   "source": [
    "There are basically two types of arguments\n",
    "\n",
    "1-- Formal Argument\n",
    "2-- Actual Arguments\n",
    "\n",
    "     In Actual arguments they further divided in four parts\n",
    "     \n",
    "     1--Positional Arguments\n",
    "     2--Keyword Arguments\n",
    "     3--Default Arguments\n",
    "     4--Variable Length Arguments\n"
   ]
  },
  {
   "cell_type": "code",
   "execution_count": 1,
   "id": "46350120-8ce7-458e-a67e-b3b2500eb23e",
   "metadata": {},
   "outputs": [
    {
     "name": "stdout",
     "output_type": "stream",
     "text": [
      "Prerana\n"
     ]
    }
   ],
   "source": [
    "def name():\n",
    "    print('Prerana')\n",
    "name()    "
   ]
  },
  {
   "cell_type": "code",
   "execution_count": 2,
   "id": "3fa78a2a-d84b-421e-9442-6f798fefbd80",
   "metadata": {},
   "outputs": [
    {
     "name": "stdout",
     "output_type": "stream",
     "text": [
      "7\n"
     ]
    }
   ],
   "source": [
    "def add(a,b): #Formal Argument\n",
    "    c=a+b\n",
    "    print(c)\n",
    "add(3,4)  # Actual Argument  "
   ]
  },
  {
   "cell_type": "code",
   "execution_count": 3,
   "id": "83f6adf6-6674-4539-b5b4-25c4a0a9ca34",
   "metadata": {},
   "outputs": [
    {
     "name": "stdout",
     "output_type": "stream",
     "text": [
      "7\n"
     ]
    },
    {
     "data": {
      "text/plain": [
       "7"
      ]
     },
     "execution_count": 3,
     "metadata": {},
     "output_type": "execute_result"
    }
   ],
   "source": [
    "def add(a,b):\n",
    "    c=a+b\n",
    "    print(c)\n",
    "    return c\n",
    "add(3,4)    "
   ]
  },
  {
   "cell_type": "code",
   "execution_count": 4,
   "id": "46572806-69c2-4acb-a73a-bfdc32c0f67c",
   "metadata": {},
   "outputs": [
    {
     "data": {
      "text/plain": [
       "7"
      ]
     },
     "execution_count": 4,
     "metadata": {},
     "output_type": "execute_result"
    }
   ],
   "source": [
    "def add(a,b):\n",
    "    c=a+b\n",
    "    return c\n",
    "add(3,4)    "
   ]
  },
  {
   "cell_type": "code",
   "execution_count": 5,
   "id": "8eab336e-a79a-4151-afcc-af266529aff6",
   "metadata": {},
   "outputs": [
    {
     "data": {
      "text/plain": [
       "(7, 1)"
      ]
     },
     "execution_count": 5,
     "metadata": {},
     "output_type": "execute_result"
    }
   ],
   "source": [
    "def add(a,b):\n",
    "    c=a+b\n",
    "    d=a-b\n",
    "    return c,d\n",
    "add(4,3)    \n",
    "# Itgives output in tuple formate "
   ]
  },
  {
   "cell_type": "code",
   "execution_count": 7,
   "id": "a9fbce4f-b83a-47e3-aaa5-a92047d90d6e",
   "metadata": {},
   "outputs": [
    {
     "name": "stdout",
     "output_type": "stream",
     "text": [
      "4 3\n"
     ]
    }
   ],
   "source": [
    "def add(a,b):\n",
    "    c=a+b\n",
    "    d=a-b\n",
    "    print(a,b)\n",
    "add(4,3)    \n"
   ]
  },
  {
   "cell_type": "code",
   "execution_count": 8,
   "id": "a7e7bb8e-7ee7-4f41-8cee-a897f93e17d4",
   "metadata": {},
   "outputs": [
    {
     "name": "stdout",
     "output_type": "stream",
     "text": [
      "prerana 22\n"
     ]
    }
   ],
   "source": [
    "def info(name,age):\n",
    "    print(name,age)\n",
    "info('prerana',22)    "
   ]
  },
  {
   "cell_type": "code",
   "execution_count": 9,
   "id": "5e7b4351-180a-4d24-aa74-4281b5312f1d",
   "metadata": {},
   "outputs": [
    {
     "ename": "TypeError",
     "evalue": "info() missing 1 required positional argument: 'age'",
     "output_type": "error",
     "traceback": [
      "\u001b[1;31m---------------------------------------------------------------------------\u001b[0m",
      "\u001b[1;31mTypeError\u001b[0m                                 Traceback (most recent call last)",
      "Cell \u001b[1;32mIn[9], line 3\u001b[0m\n\u001b[0;32m      1\u001b[0m \u001b[38;5;28;01mdef\u001b[39;00m \u001b[38;5;21minfo\u001b[39m(name,age):\n\u001b[0;32m      2\u001b[0m     \u001b[38;5;28mprint\u001b[39m(name,age)\n\u001b[1;32m----> 3\u001b[0m \u001b[43minfo\u001b[49m\u001b[43m(\u001b[49m\u001b[38;5;241;43m22\u001b[39;49m\u001b[43m)\u001b[49m    \u001b[38;5;66;03m# Positinal Argument \u001b[39;00m\n",
      "\u001b[1;31mTypeError\u001b[0m: info() missing 1 required positional argument: 'age'"
     ]
    }
   ],
   "source": [
    "def info(name,age):\n",
    "    print(name,age)\n",
    "info(22)    # Positinal Argument "
   ]
  },
  {
   "cell_type": "code",
   "execution_count": 10,
   "id": "22d386b8-475b-4625-9e34-fd95abe5f82a",
   "metadata": {},
   "outputs": [
    {
     "ename": "TypeError",
     "evalue": "info() missing 1 required positional argument: 'age'",
     "output_type": "error",
     "traceback": [
      "\u001b[1;31m---------------------------------------------------------------------------\u001b[0m",
      "\u001b[1;31mTypeError\u001b[0m                                 Traceback (most recent call last)",
      "Cell \u001b[1;32mIn[10], line 3\u001b[0m\n\u001b[0;32m      1\u001b[0m \u001b[38;5;28;01mdef\u001b[39;00m \u001b[38;5;21minfo\u001b[39m(name,age):\n\u001b[0;32m      2\u001b[0m     \u001b[38;5;28mprint\u001b[39m(name,age)\n\u001b[1;32m----> 3\u001b[0m \u001b[43minfo\u001b[49m\u001b[43m(\u001b[49m\u001b[38;5;124;43m'\u001b[39;49m\u001b[38;5;124;43mprerana\u001b[39;49m\u001b[38;5;124;43m'\u001b[39;49m\u001b[43m)\u001b[49m    \u001b[38;5;66;03m# Positinal Argument \u001b[39;00m\n",
      "\u001b[1;31mTypeError\u001b[0m: info() missing 1 required positional argument: 'age'"
     ]
    }
   ],
   "source": [
    "def info(name,age):\n",
    "    print(name,age)\n",
    "info('prerana')    # Positinal Argument "
   ]
  },
  {
   "cell_type": "code",
   "execution_count": 11,
   "id": "9533e997-9ce2-4b88-9279-ba5953225b48",
   "metadata": {},
   "outputs": [
    {
     "ename": "TypeError",
     "evalue": "info() missing 2 required positional arguments: 'name' and 'age'",
     "output_type": "error",
     "traceback": [
      "\u001b[1;31m---------------------------------------------------------------------------\u001b[0m",
      "\u001b[1;31mTypeError\u001b[0m                                 Traceback (most recent call last)",
      "Cell \u001b[1;32mIn[11], line 3\u001b[0m\n\u001b[0;32m      1\u001b[0m \u001b[38;5;28;01mdef\u001b[39;00m \u001b[38;5;21minfo\u001b[39m(name,age):\n\u001b[0;32m      2\u001b[0m     \u001b[38;5;28mprint\u001b[39m(name,age)\n\u001b[1;32m----> 3\u001b[0m \u001b[43minfo\u001b[49m\u001b[43m(\u001b[49m\u001b[43m)\u001b[49m  \u001b[38;5;66;03m# Positinal Argument \u001b[39;00m\n",
      "\u001b[1;31mTypeError\u001b[0m: info() missing 2 required positional arguments: 'name' and 'age'"
     ]
    }
   ],
   "source": [
    "def info(name,age):\n",
    "    print(name,age)\n",
    "info()  # Positinal Argument "
   ]
  },
  {
   "cell_type": "code",
   "execution_count": 12,
   "id": "94bf4cc4-4b09-4b8d-902c-0d153818b40b",
   "metadata": {},
   "outputs": [
    {
     "name": "stdout",
     "output_type": "stream",
     "text": [
      "22 prerana\n"
     ]
    }
   ],
   "source": [
    "def info(name,age):\n",
    "    print(name,age)\n",
    "info(22,'prerana')  # Positinal Argument  \n",
    "#It changes the value of an argumnt for removing this issue we use keyword argument'"
   ]
  },
  {
   "cell_type": "code",
   "execution_count": 13,
   "id": "704ad6df-9af2-4c89-88e8-c377ee008d5f",
   "metadata": {},
   "outputs": [
    {
     "name": "stdout",
     "output_type": "stream",
     "text": [
      "Prerana 22\n"
     ]
    }
   ],
   "source": [
    "def info(name ='Prerana',age=22): #keyword Argument\n",
    "    print(name,age)\n",
    "info() "
   ]
  }
 ],
 "metadata": {
  "kernelspec": {
   "display_name": "Python 3 (ipykernel)",
   "language": "python",
   "name": "python3"
  },
  "language_info": {
   "codemirror_mode": {
    "name": "ipython",
    "version": 3
   },
   "file_extension": ".py",
   "mimetype": "text/x-python",
   "name": "python",
   "nbconvert_exporter": "python",
   "pygments_lexer": "ipython3",
   "version": "3.12.7"
  }
 },
 "nbformat": 4,
 "nbformat_minor": 5
}
