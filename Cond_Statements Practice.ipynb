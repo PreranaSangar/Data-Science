{
 "cells": [
  {
   "cell_type": "code",
   "execution_count": 1,
   "id": "4c7de0a5-0077-400e-b3c5-5d4c828ac852",
   "metadata": {},
   "outputs": [
    {
     "name": "stdout",
     "output_type": "stream",
     "text": [
      "5\n",
      "10\n",
      "15\n",
      "20\n",
      "25\n",
      "30\n",
      "35\n",
      "40\n",
      "45\n",
      "50\n"
     ]
    }
   ],
   "source": [
    "# print the number which  is divisible by 5\n",
    "# can you write the python code for 5 multiplication table \n",
    "\n",
    "for  i in range(1,51):\n",
    "    if i%5==0:\n",
    "        print(i)"
   ]
  },
  {
   "cell_type": "code",
   "execution_count": 2,
   "id": "2f4b7dc4-ea54-4ba1-ab4d-f830db96535e",
   "metadata": {},
   "outputs": [
    {
     "name": "stdout",
     "output_type": "stream",
     "text": [
      "1\n",
      "2\n",
      "3\n",
      "4\n",
      "6\n",
      "7\n",
      "8\n",
      "9\n"
     ]
    }
   ],
   "source": [
    "# print the number which  is not  divisible by 5\n",
    "\n",
    "for i in range(1,11):\n",
    "    if i%5!=0:\n",
    "        print(i)"
   ]
  },
  {
   "cell_type": "code",
   "execution_count": 3,
   "id": "900d21a5-fd3f-4070-b95d-99058871263d",
   "metadata": {},
   "outputs": [
    {
     "name": "stdout",
     "output_type": "stream",
     "text": [
      "Not prime number\n"
     ]
    }
   ],
   "source": [
    "# TO check number is prime or not\n",
    "num=12\n",
    "for i in range(2,num):\n",
    "    if num%i==0:\n",
    "        print('Not prime number')\n",
    "        break\n",
    "else:\n",
    "    print('prime number')"
   ]
  },
  {
   "cell_type": "code",
   "execution_count": 4,
   "id": "e75340cc-5886-481b-857a-542b2dac3518",
   "metadata": {},
   "outputs": [
    {
     "name": "stdout",
     "output_type": "stream",
     "text": [
      "1\n",
      "2\n",
      "3\n",
      "4\n",
      "5\n",
      "6\n",
      "7\n",
      "8\n",
      "9\n",
      "10\n"
     ]
    }
   ],
   "source": [
    "for i in range(1,11):\n",
    "    print(i)"
   ]
  },
  {
   "cell_type": "code",
   "execution_count": 5,
   "id": "2264c774-03b1-4ef7-852b-401ea3c15b6f",
   "metadata": {},
   "outputs": [],
   "source": [
    "for i in range(1,11):\n",
    "    if i==5:\n",
    "        break "
   ]
  },
  {
   "cell_type": "code",
   "execution_count": 6,
   "id": "44257821-7c6d-4088-833a-3c4ddb0765a0",
   "metadata": {},
   "outputs": [
    {
     "name": "stdout",
     "output_type": "stream",
     "text": [
      "1\n",
      "2\n",
      "3\n",
      "4\n"
     ]
    }
   ],
   "source": [
    "for i in range(1,11):\n",
    "    if i==5:\n",
    "        break # break we will used in computer vision projects\n",
    "    print(i)   "
   ]
  },
  {
   "cell_type": "code",
   "execution_count": 7,
   "id": "ba46146d-6d8f-4a8b-beb3-28d677392f54",
   "metadata": {},
   "outputs": [
    {
     "name": "stdout",
     "output_type": "stream",
     "text": [
      "5\n"
     ]
    }
   ],
   "source": [
    "for i in range(1,11):\n",
    "    if i==5:\n",
    "        break # break we will used in computer vision projects\n",
    "print(i)   "
   ]
  },
  {
   "cell_type": "code",
   "execution_count": 8,
   "id": "96b7602b-45ea-4806-b1df-522bf8100337",
   "metadata": {},
   "outputs": [
    {
     "name": "stdout",
     "output_type": "stream",
     "text": [
      "1\n",
      "2\n",
      "3\n",
      "4\n",
      "6\n",
      "7\n",
      "8\n",
      "9\n",
      "10\n"
     ]
    }
   ],
   "source": [
    "for i in range(1,11):\n",
    "    if i==5:\n",
    "        continue\n",
    "    print(i)    "
   ]
  },
  {
   "cell_type": "code",
   "execution_count": 9,
   "id": "e072ce99-04bf-4d3a-b6e2-887e5ac551f1",
   "metadata": {},
   "outputs": [
    {
     "name": "stdout",
     "output_type": "stream",
     "text": [
      "hello 1\n",
      "hello 2\n",
      "hello 3\n",
      "hello 4\n",
      "hello 6\n",
      "hello 7\n",
      "hello 8\n",
      "hello 9\n",
      "hello 10\n"
     ]
    }
   ],
   "source": [
    "for i in range(1,11):\n",
    "    if i==5:\n",
    "        continue\n",
    "    print('hello',i)    "
   ]
  },
  {
   "cell_type": "code",
   "execution_count": 10,
   "id": "3bf13d6e-0574-40a3-bd59-60109a793ad9",
   "metadata": {},
   "outputs": [
    {
     "ename": "SyntaxError",
     "evalue": "incomplete input (1334445784.py, line 1)",
     "output_type": "error",
     "traceback": [
      "\u001b[1;36m  Cell \u001b[1;32mIn[10], line 1\u001b[1;36m\u001b[0m\n\u001b[1;33m    for i in range(1,11):\u001b[0m\n\u001b[1;37m                         ^\u001b[0m\n\u001b[1;31mSyntaxError\u001b[0m\u001b[1;31m:\u001b[0m incomplete input\n"
     ]
    }
   ],
   "source": [
    "for i in range(1,11):"
   ]
  },
  {
   "cell_type": "code",
   "execution_count": 11,
   "id": "04744a39-a3e1-49e1-a295-8fc167d7014c",
   "metadata": {},
   "outputs": [],
   "source": [
    "for i in range(1,11):\n",
    "    pass"
   ]
  },
  {
   "cell_type": "code",
   "execution_count": 12,
   "id": "35d92cc4-411a-4547-bf24-340d266f66af",
   "metadata": {},
   "outputs": [],
   "source": [
    "# PRINTING PATTERN IN PYTHON"
   ]
  },
  {
   "cell_type": "code",
   "execution_count": 13,
   "id": "f5d8677f-2846-43a7-a5ac-4c27bf5ff8c1",
   "metadata": {},
   "outputs": [
    {
     "name": "stdout",
     "output_type": "stream",
     "text": [
      "# # # # "
     ]
    }
   ],
   "source": [
    "for j in range(4):\n",
    "    print('#',end=\" \")"
   ]
  },
  {
   "cell_type": "code",
   "execution_count": 14,
   "id": "8c1f0750-e3ad-478d-8768-5b55cd05edb9",
   "metadata": {},
   "outputs": [
    {
     "name": "stdout",
     "output_type": "stream",
     "text": [
      "# # # # # # # # "
     ]
    }
   ],
   "source": [
    "for j in range(4):\n",
    "    print('#',end=\" \")\n",
    "for j in range(4):\n",
    "    print('#',end=\" \")"
   ]
  },
  {
   "cell_type": "code",
   "execution_count": 15,
   "id": "a34551ec-d146-4907-8299-d34575083c1d",
   "metadata": {},
   "outputs": [
    {
     "name": "stdout",
     "output_type": "stream",
     "text": [
      "# # # # \n",
      "# # # # "
     ]
    }
   ],
   "source": [
    "for j in range(4):\n",
    "    print('#',end=\" \")\n",
    "\n",
    "print()\n",
    "\n",
    "for j in range(4):\n",
    "    print('#',end=\" \")\n"
   ]
  },
  {
   "cell_type": "code",
   "execution_count": 16,
   "id": "96ea47b4-32c1-4926-b257-f81dd9865b83",
   "metadata": {},
   "outputs": [
    {
     "name": "stdout",
     "output_type": "stream",
     "text": [
      "# # # # \n",
      "# # # # \n",
      "# # # # \n",
      "# # # # \n"
     ]
    }
   ],
   "source": [
    "for j in range(4):\n",
    "    print('#',end=\" \")\n",
    "\n",
    "print()\n",
    "\n",
    "for j in range(4):\n",
    "    print('#',end=\" \")\n",
    "\n",
    "print()\n",
    "\n",
    "for j in range(4):\n",
    "    print('#',end=\" \")\n",
    "\n",
    "print()\n",
    "\n",
    "for j in range(4):\n",
    "    print('#',end=\" \")\n",
    "\n",
    "print()"
   ]
  },
  {
   "cell_type": "code",
   "execution_count": 17,
   "id": "a2204a4c-7bf5-46da-a90a-4b0c15300de8",
   "metadata": {},
   "outputs": [
    {
     "name": "stdout",
     "output_type": "stream",
     "text": [
      "# # # # \n",
      "# # # # \n",
      "# # # # \n",
      "# # # # \n"
     ]
    }
   ],
   "source": [
    "for i in range(4):\n",
    "    for j in range(4):\n",
    "        print('#',end=\" \")\n",
    "    print()    \n"
   ]
  },
  {
   "cell_type": "code",
   "execution_count": 18,
   "id": "f9bcf8b2-a4f6-4718-9869-60eda238de57",
   "metadata": {},
   "outputs": [
    {
     "name": "stdout",
     "output_type": "stream",
     "text": [
      "\n",
      "#  \n",
      "#  #  \n",
      "#  #  #  \n",
      "#  #  #  #  \n"
     ]
    }
   ],
   "source": [
    "for i in range(5):\n",
    "    for j in range(i):\n",
    "        print('#', end=\"  \")\n",
    "    print()"
   ]
  },
  {
   "cell_type": "code",
   "execution_count": 19,
   "id": "16b355c8-4a21-4a61-8c78-f157701c2e5e",
   "metadata": {},
   "outputs": [
    {
     "name": "stdout",
     "output_type": "stream",
     "text": [
      "#  \n",
      "#  #  \n",
      "#  #  #  \n",
      "#  #  #  #  \n"
     ]
    }
   ],
   "source": [
    "for i in range(4):\n",
    "    for j in range(i+1):\n",
    "        print('#', end=\"  \")\n",
    "    print()"
   ]
  },
  {
   "cell_type": "code",
   "execution_count": 20,
   "id": "6869c967-3331-4692-b8ee-749471c1c6ca",
   "metadata": {},
   "outputs": [
    {
     "name": "stdout",
     "output_type": "stream",
     "text": [
      "*  *  *  *  \n",
      "*  *  *  \n",
      "*  *  \n",
      "*  \n"
     ]
    }
   ],
   "source": [
    "for i in range(4):\n",
    "    for j in range(4-i):\n",
    "        print('*', end=\"  \")\n",
    "    print()"
   ]
  },
  {
   "cell_type": "code",
   "execution_count": 21,
   "id": "103b1e0b-17a4-404b-9411-69c50fc9335d",
   "metadata": {},
   "outputs": [
    {
     "name": "stdout",
     "output_type": "stream",
     "text": [
      "#  #  #  #  \n",
      "#  #  #  \n",
      "#  #  \n",
      "#  \n"
     ]
    }
   ],
   "source": [
    "for i in range(4):\n",
    "    for j in range(4-i):\n",
    "        print('#', end=\"  \")\n",
    "    print()"
   ]
  },
  {
   "cell_type": "markdown",
   "id": "05dc7cf8-4d84-41f3-9dad-b1a16f9a9cf5",
   "metadata": {},
   "source": [
    "# For Else in Python"
   ]
  },
  {
   "cell_type": "code",
   "execution_count": 22,
   "id": "c2c06c10-8b25-4a0b-96ca-01211f2eb71a",
   "metadata": {},
   "outputs": [
    {
     "name": "stdout",
     "output_type": "stream",
     "text": [
      "15\n"
     ]
    }
   ],
   "source": [
    "nums = [12,15,18,21,26]\n",
    "for num in nums:\n",
    "    if num % 5 == 0:\n",
    "        print(num)  "
   ]
  },
  {
   "cell_type": "code",
   "execution_count": 23,
   "id": "b7b63178-ab83-4dde-bf55-90977f41b810",
   "metadata": {},
   "outputs": [
    {
     "name": "stdout",
     "output_type": "stream",
     "text": [
      "25\n"
     ]
    }
   ],
   "source": [
    "nums = [12,14,18,21,25]\n",
    "for num in nums:\n",
    "    if num % 5 == 0:\n",
    "        print(num)  "
   ]
  },
  {
   "cell_type": "code",
   "execution_count": 24,
   "id": "416c6984-41c7-4971-8909-2f3cec4335bb",
   "metadata": {},
   "outputs": [
    {
     "name": "stdout",
     "output_type": "stream",
     "text": [
      "25\n",
      "20\n"
     ]
    }
   ],
   "source": [
    "nums = [12,14,18,21,25,20]\n",
    "for num in nums:\n",
    "    if num % 5 == 0:\n",
    "        print(num)  "
   ]
  },
  {
   "cell_type": "code",
   "execution_count": 25,
   "id": "ec334ee3-1e51-4d45-8c9e-d89cb4bb3abe",
   "metadata": {},
   "outputs": [
    {
     "name": "stdout",
     "output_type": "stream",
     "text": [
      "25\n"
     ]
    }
   ],
   "source": [
    "nums = [12,14,18,21,25,20]\n",
    "for num in nums:\n",
    "    if num % 5 == 0:\n",
    "        print(num)  \n",
    "        break"
   ]
  },
  {
   "cell_type": "code",
   "execution_count": 26,
   "id": "679c0ad6-67ac-4874-b1be-15097e065c0c",
   "metadata": {},
   "outputs": [
    {
     "name": "stdout",
     "output_type": "stream",
     "text": [
      "10\n"
     ]
    }
   ],
   "source": [
    "nums = [10,14,18,21,20,25]\n",
    "for num in nums:\n",
    "    if num % 5 == 0:\n",
    "        print(num)  \n",
    "        break #it will print only 1 number then it break        "
   ]
  },
  {
   "cell_type": "code",
   "execution_count": 27,
   "id": "bd764a7e-c9a5-4701-a1b8-3b606755d36c",
   "metadata": {},
   "outputs": [],
   "source": [
    "nums = [7,14,18,21,23,27] #hear there is no number which is divisible by 5 we got output as blank\n",
    "for num in nums:\n",
    "    if num % 5 == 0:\n",
    "        print(num)  \n",
    "       # break"
   ]
  },
  {
   "cell_type": "code",
   "execution_count": 28,
   "id": "1525b652-4ff0-4aa8-bb7d-0b2fddbfa233",
   "metadata": {},
   "outputs": [
    {
     "name": "stdout",
     "output_type": "stream",
     "text": [
      "Not Found\n",
      "Not Found\n",
      "Not Found\n",
      "Not Found\n",
      "Not Found\n",
      "Not Found\n"
     ]
    }
   ],
   "source": [
    "nums = [7,14,18,21,23,27] #hear there is no number which is divisible by 5 we got output as blank\n",
    "for num in nums:\n",
    "    if num % 5 == 0:\n",
    "        print(num)  \n",
    "        break\n",
    "    else:\n",
    "        print('Not Found') #every iteration it cheking condition"
   ]
  },
  {
   "cell_type": "code",
   "execution_count": 29,
   "id": "b5239e74-bab2-4ff4-89a8-ae5db6e7cf2b",
   "metadata": {},
   "outputs": [
    {
     "name": "stdout",
     "output_type": "stream",
     "text": [
      "Not Found\n"
     ]
    }
   ],
   "source": [
    "nums = [7,14,18,21,23,27] #hear there is no number which is divisible by 5 we got output as blank\n",
    "for num in nums:\n",
    "    if num % 5 == 0:\n",
    "        print(num)  \n",
    "        #break\n",
    "else:\n",
    "        print('Not Found') # hear else we dont write in if block but"
   ]
  },
  {
   "cell_type": "code",
   "execution_count": 30,
   "id": "ffb9a896-6b8f-460c-89fb-3af4ab9dee5f",
   "metadata": {},
   "outputs": [
    {
     "name": "stdout",
     "output_type": "stream",
     "text": [
      "10\n",
      "20\n",
      "Not Found\n"
     ]
    }
   ],
   "source": [
    "nums = [10,14,18,21,20,27] #hear there is no number which is divisible by 5 we got output as blank\n",
    "for num in nums:\n",
    "    if num % 5 == 0:\n",
    "        print(num)  \n",
    "        #break\n",
    "else:\n",
    "        print('Not Found')"
   ]
  },
  {
   "cell_type": "code",
   "execution_count": 31,
   "id": "d860782e-d243-48d4-97af-5cb1d686f330",
   "metadata": {},
   "outputs": [
    {
     "name": "stdout",
     "output_type": "stream",
     "text": [
      "10\n"
     ]
    }
   ],
   "source": [
    "nums = [10,14,18,21,20,27] #hear there is no number which is divisible by 5 we got output as blank\n",
    "for num in nums:\n",
    "    if num % 5 == 0:\n",
    "        print(num)  \n",
    "        break\n",
    "else:\n",
    "        print('Not Found')"
   ]
  }
 ],
 "metadata": {
  "kernelspec": {
   "display_name": "Python 3 (ipykernel)",
   "language": "python",
   "name": "python3"
  },
  "language_info": {
   "codemirror_mode": {
    "name": "ipython",
    "version": 3
   },
   "file_extension": ".py",
   "mimetype": "text/x-python",
   "name": "python",
   "nbconvert_exporter": "python",
   "pygments_lexer": "ipython3",
   "version": "3.12.7"
  }
 },
 "nbformat": 4,
 "nbformat_minor": 5
}
