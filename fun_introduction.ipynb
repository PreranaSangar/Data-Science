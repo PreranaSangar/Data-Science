{
 "cells": [
  {
   "cell_type": "markdown",
   "id": "3a6ffbd0-8eb2-472f-833e-76ace8e4260c",
   "metadata": {},
   "source": [
    "User Defined Functions"
   ]
  },
  {
   "cell_type": "code",
   "execution_count": 12,
   "id": "c053efe7-fa37-43c2-bc09-8539dfb4cc4d",
   "metadata": {},
   "outputs": [
    {
     "name": "stdout",
     "output_type": "stream",
     "text": [
      "hello\n",
      "Good Morinng\n"
     ]
    }
   ],
   "source": [
    "def greet():\n",
    "    print('hello')\n",
    "    print('Good Morinng')\n",
    "greet()    "
   ]
  },
  {
   "cell_type": "code",
   "execution_count": 13,
   "id": "797b06ac-1f10-4fb3-af7d-fb3a268cd077",
   "metadata": {},
   "outputs": [
    {
     "name": "stdout",
     "output_type": "stream",
     "text": [
      "hello\n",
      "Good Morinng\n",
      "hello\n",
      "Good Morinng\n"
     ]
    }
   ],
   "source": [
    "def greet():\n",
    "    print('hello')\n",
    "    print('Good Morinng')\n",
    "greet() \n",
    "\n",
    "def greet():\n",
    "    print('hello')\n",
    "    print('Good Morinng')\n",
    "greet()    "
   ]
  },
  {
   "cell_type": "code",
   "execution_count": 14,
   "id": "b6be3a88-94a9-41c5-a25e-f11440ac8ad2",
   "metadata": {},
   "outputs": [
    {
     "name": "stdout",
     "output_type": "stream",
     "text": [
      "hello\n",
      "Good Morinng\n",
      "\n",
      "hello\n",
      "Good Morinng\n"
     ]
    }
   ],
   "source": [
    "def greet():\n",
    "    print('hello')\n",
    "    print('Good Morinng')\n",
    "greet() \n",
    "print()\n",
    "greet()    "
   ]
  },
  {
   "cell_type": "code",
   "execution_count": 15,
   "id": "b0b43dc3-03f4-40f5-9797-6160fc1688b4",
   "metadata": {},
   "outputs": [
    {
     "name": "stdout",
     "output_type": "stream",
     "text": [
      "11\n"
     ]
    }
   ],
   "source": [
    "def add(a,b): #Formal parameters\n",
    "    c=a+b\n",
    "    print(c)\n",
    "add(5,6) #Actual Parameters   \n",
    "    "
   ]
  },
  {
   "cell_type": "code",
   "execution_count": 16,
   "id": "a91a7549-a744-43bf-883e-bc109002c0cc",
   "metadata": {},
   "outputs": [
    {
     "name": "stdout",
     "output_type": "stream",
     "text": [
      "11\n",
      "9\n"
     ]
    }
   ],
   "source": [
    "def add(a,b): #Formal parameters\n",
    "    c=a+b\n",
    "    print(c)\n",
    "add(5,6) #Actual Parameters \n",
    "add(9,0)\n"
   ]
  },
  {
   "cell_type": "code",
   "execution_count": 19,
   "id": "96603ce7-12b6-4009-9f03-67845eed7ea2",
   "metadata": {},
   "outputs": [
    {
     "name": "stdout",
     "output_type": "stream",
     "text": [
      "hello\n",
      "Good Morinng\n",
      "11\n"
     ]
    }
   ],
   "source": [
    "def greet():\n",
    "    print('hello')\n",
    "    print('Good Morinng')\n",
    "greet() \n",
    "\n",
    "def add(a,b): #Formal parameters\n",
    "    c=a+b\n",
    "    print(c)\n",
    "add(5,6) #Actual Parameters   \n",
    "    "
   ]
  },
  {
   "cell_type": "code",
   "execution_count": 20,
   "id": "b92b3f18-2626-4f12-a14d-3db8de190eb5",
   "metadata": {},
   "outputs": [
    {
     "name": "stdout",
     "output_type": "stream",
     "text": [
      "hello\n",
      "Good Morinng\n",
      "11\n"
     ]
    }
   ],
   "source": [
    "def greet():\n",
    "    print('hello')\n",
    "    print('Good Morinng')\n",
    "\n",
    "def add(a,b): #Formal parameters\n",
    "    c=a+b\n",
    "    print(c)\n",
    "\n",
    "greet() \n",
    "add(5,6) #Actual Parameters "
   ]
  },
  {
   "cell_type": "code",
   "execution_count": 21,
   "id": "b617542f-9c29-4170-8138-d5979dc6ec64",
   "metadata": {},
   "outputs": [
    {
     "name": "stdout",
     "output_type": "stream",
     "text": [
      "10\n",
      "6\n",
      "16\n",
      "4.0\n"
     ]
    }
   ],
   "source": [
    "def add(x,y):\n",
    "    z=x+y\n",
    "    print(z)\n",
    "\n",
    "    z=x-y\n",
    "    print(z)\n",
    "\n",
    "    z=x*y\n",
    "    print(z)\n",
    "\n",
    "    z=x/y\n",
    "    print(z)\n",
    "add(8,2)\n",
    "\n"
   ]
  }
 ],
 "metadata": {
  "kernelspec": {
   "display_name": "Python 3 (ipykernel)",
   "language": "python",
   "name": "python3"
  },
  "language_info": {
   "codemirror_mode": {
    "name": "ipython",
    "version": 3
   },
   "file_extension": ".py",
   "mimetype": "text/x-python",
   "name": "python",
   "nbconvert_exporter": "python",
   "pygments_lexer": "ipython3",
   "version": "3.12.7"
  }
 },
 "nbformat": 4,
 "nbformat_minor": 5
}
